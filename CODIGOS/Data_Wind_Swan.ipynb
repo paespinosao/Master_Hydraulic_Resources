{
 "cells": [
  {
   "cell_type": "code",
   "execution_count": 1,
   "metadata": {},
   "outputs": [],
   "source": [
    "import numpy as np\n",
    "import pandas as pd\n",
    "import datetime as dt\n",
    "from datetime import datetime, timedelta\n",
    "from pytz import timezone\n",
    "import pytz\n",
    "from netCDF4 import Dataset, num2date\n",
    "from dateutil.rrule import *\n",
    "import os\n",
    "import netCDF4 as nc\n",
    "import calendar as cal"
   ]
  },
  {
   "cell_type": "code",
   "execution_count": 15,
   "metadata": {},
   "outputs": [],
   "source": [
    "data1 = Dataset('data_wind_10_11_125.nc','r')\n",
    "# data = Dataset('data_wind_Ene_Mar_2020.nc','r')"
   ]
  },
  {
   "cell_type": "code",
   "execution_count": 16,
   "metadata": {},
   "outputs": [
    {
     "name": "stdout",
     "output_type": "stream",
     "text": [
      "CPU times: total: 0 ns\n",
      "Wall time: 14.4 ms\n"
     ]
    }
   ],
   "source": [
    "%%time\n",
    "lat = np.array(data1.variables['latitude'][:])\n",
    "lon = np.array(data1.variables['longitude'][:])\n",
    "nctime = np.array(data1.variables['time'][:])\n",
    "t_unit = data1.variables['time'].units\n",
    "t_cal = data1.variables['time'].calendar\n",
    "time = num2date(nctime,units=t_unit,calendar=t_cal)#Date time\n",
    "data_u1 = data1.variables['u10'][:]\n",
    "data_v1 = data1.variables['v10'][:]"
   ]
  },
  {
   "cell_type": "code",
   "execution_count": 17,
   "metadata": {},
   "outputs": [],
   "source": [
    "# time = np.asarray(rrule(HOURLY, dtstart=dt.datetime(2020,1,1,0), until=dt.datetime(2020,3,31,23), interval=1)[:])\n",
    "# data_u = data.variables['u10'][:]\n",
    "# data_v = data.variables['v10'][:]"
   ]
  },
  {
   "cell_type": "code",
   "execution_count": 18,
   "metadata": {},
   "outputs": [],
   "source": [
    "# # ***********************************************************\n",
    "# # Cargar datos U y V\n",
    "# # ***********************************************************\n",
    "# time = np.asarray(rrule(HOURLY, dtstart=dt.datetime(2019,10,1,0), until=dt.datetime(2019,11,30,23), interval=1)[:])\n",
    "# data = nc.Dataset(r'data_wind_detalle_Nov_0_025.nc')\n",
    "# data_u = data.variables['u10'][:]\n",
    "# data_v = data.variables['v10'][:]\n",
    "# ndays = cal.monthrange(2019, 11)[1]\n",
    "# ndays"
   ]
  },
  {
   "cell_type": "code",
   "execution_count": 19,
   "metadata": {},
   "outputs": [
    {
     "data": {
      "text/plain": [
       "array([datetime.datetime(2021, 9, 30, 19, 0),\n",
       "       datetime.datetime(2021, 9, 30, 20, 0),\n",
       "       datetime.datetime(2021, 9, 30, 21, 0), ...,\n",
       "       datetime.datetime(2021, 11, 30, 16, 0),\n",
       "       datetime.datetime(2021, 11, 30, 17, 0),\n",
       "       datetime.datetime(2021, 11, 30, 18, 0)], dtype=object)"
      ]
     },
     "execution_count": 19,
     "metadata": {},
     "output_type": "execute_result"
    }
   ],
   "source": [
    "utc = pytz.utc\n",
    "col_zone = timezone('America/Bogota')\n",
    "time2=np.array([datetime(i.year,i.month,i.day,i.hour,i.minute,tzinfo=utc) for i in time])\n",
    "loc_co =np.array([i.astimezone(col_zone) for i in time2])\n",
    "time1 = np.array([datetime(i.year,i.month,i.day,i.hour,i.minute) for i in loc_co])\n",
    "time1"
   ]
  },
  {
   "cell_type": "code",
   "execution_count": 22,
   "metadata": {},
   "outputs": [],
   "source": [
    "fecha_inicio_19 = datetime(2021,10,28,0,0)\n",
    "fecha_fin_19 = datetime(2021,11,14,16,0)\n",
    "in_finicio_19= np.where(time1==fecha_inicio_19)[0][0]\n",
    "in_ffin_19 = np.where(time1==fecha_fin_19)[0][0]\n",
    "data_u_split = data_u1[in_finicio_19:in_ffin_19+1,:,:]\n",
    "data_v_split = data_v1[in_finicio_19:in_ffin_19+1,:,:]\n",
    "time_split = time1[in_finicio_19:in_ffin_19+1]"
   ]
  },
  {
   "cell_type": "code",
   "execution_count": 23,
   "metadata": {},
   "outputs": [],
   "source": [
    "#Se hace el recorte del vector\n",
    "q1=np.where(np.asarray(time_split[:])==time_split[0])[0]\n",
    "q2=np.where(np.asarray(time_split[:])==time_split[-1])[0]\n",
    "with open (\"wind_november_4_14_2021.wnd\",'w') as f:# Aquí se crea el archivo.txt\n",
    "    for i in range(q1[0],q2[0]):\n",
    "        f.write(\"%s\\n\" % time_split[i].strftime(\"%Y%m%d %H%M%S\"))\n",
    "        np.savetxt(f,data_u_split[i,:,:])#,fmt='%10.4f')\n",
    "        np.savetxt(f,data_v_split[i,:,:])#,fmt='%10.4f')"
   ]
  },
  {
   "cell_type": "code",
   "execution_count": null,
   "metadata": {},
   "outputs": [],
   "source": []
  }
 ],
 "metadata": {
  "kernelspec": {
   "display_name": "Python 3 (ipykernel)",
   "language": "python",
   "name": "python3"
  },
  "language_info": {
   "codemirror_mode": {
    "name": "ipython",
    "version": 3
   },
   "file_extension": ".py",
   "mimetype": "text/x-python",
   "name": "python",
   "nbconvert_exporter": "python",
   "pygments_lexer": "ipython3",
   "version": "3.9.12"
  },
  "toc": {
   "base_numbering": 1,
   "nav_menu": {},
   "number_sections": true,
   "sideBar": true,
   "skip_h1_title": false,
   "title_cell": "Table of Contents",
   "title_sidebar": "Contents",
   "toc_cell": false,
   "toc_position": {},
   "toc_section_display": true,
   "toc_window_display": false
  },
  "varInspector": {
   "cols": {
    "lenName": 16,
    "lenType": 16,
    "lenVar": 40
   },
   "kernels_config": {
    "python": {
     "delete_cmd_postfix": "",
     "delete_cmd_prefix": "del ",
     "library": "var_list.py",
     "varRefreshCmd": "print(var_dic_list())"
    },
    "r": {
     "delete_cmd_postfix": ") ",
     "delete_cmd_prefix": "rm(",
     "library": "var_list.r",
     "varRefreshCmd": "cat(var_dic_list()) "
    }
   },
   "types_to_exclude": [
    "module",
    "function",
    "builtin_function_or_method",
    "instance",
    "_Feature"
   ],
   "window_display": false
  }
 },
 "nbformat": 4,
 "nbformat_minor": 4
}
