{
  "nbformat": 4,
  "nbformat_minor": 0,
  "metadata": {
    "colab": {
      "provenance": []
    },
    "kernelspec": {
      "name": "python3",
      "display_name": "Python 3"
    },
    "language_info": {
      "name": "python"
    }
  },
  "cells": [
    {
      "cell_type": "code",
      "metadata": {
        "colab": {
          "base_uri": "https://localhost:8080/"
        },
        "id": "jKGMorIRqg7B",
        "outputId": "dde10fdb-ea0e-4762-dccb-7d4a83ec4514"
      },
      "source": [
        "from google.colab import drive\n",
        "drive.mount('/content/drive')"
      ],
      "execution_count": null,
      "outputs": [
        {
          "output_type": "stream",
          "name": "stdout",
          "text": [
            "Mounted at /content/drive\n"
          ]
        }
      ]
    },
    {
      "cell_type": "markdown",
      "metadata": {
        "id": "z8E2aktwBdnj"
      },
      "source": [
        "# Previos"
      ]
    },
    {
      "cell_type": "code",
      "metadata": {
        "id": "gLJlhZif5zsn",
        "colab": {
          "base_uri": "https://localhost:8080/"
        },
        "outputId": "ac780633-4f8b-44bb-ad56-5ce667a25423"
      },
      "source": [
        "!pip install pycwt"
      ],
      "execution_count": null,
      "outputs": [
        {
          "output_type": "stream",
          "name": "stdout",
          "text": [
            "Collecting pycwt\n",
            "  Downloading pycwt-0.3.0a22.tar.gz (758 kB)\n",
            "\u001b[?25l\r\u001b[K     |▍                               | 10 kB 20.8 MB/s eta 0:00:01\r\u001b[K     |▉                               | 20 kB 10.0 MB/s eta 0:00:01\r\u001b[K     |█▎                              | 30 kB 8.4 MB/s eta 0:00:01\r\u001b[K     |█▊                              | 40 kB 7.7 MB/s eta 0:00:01\r\u001b[K     |██▏                             | 51 kB 4.2 MB/s eta 0:00:01\r\u001b[K     |██▋                             | 61 kB 4.4 MB/s eta 0:00:01\r\u001b[K     |███                             | 71 kB 4.4 MB/s eta 0:00:01\r\u001b[K     |███▌                            | 81 kB 4.9 MB/s eta 0:00:01\r\u001b[K     |████                            | 92 kB 5.1 MB/s eta 0:00:01\r\u001b[K     |████▎                           | 102 kB 4.1 MB/s eta 0:00:01\r\u001b[K     |████▊                           | 112 kB 4.1 MB/s eta 0:00:01\r\u001b[K     |█████▏                          | 122 kB 4.1 MB/s eta 0:00:01\r\u001b[K     |█████▋                          | 133 kB 4.1 MB/s eta 0:00:01\r\u001b[K     |██████                          | 143 kB 4.1 MB/s eta 0:00:01\r\u001b[K     |██████▌                         | 153 kB 4.1 MB/s eta 0:00:01\r\u001b[K     |███████                         | 163 kB 4.1 MB/s eta 0:00:01\r\u001b[K     |███████▍                        | 174 kB 4.1 MB/s eta 0:00:01\r\u001b[K     |███████▉                        | 184 kB 4.1 MB/s eta 0:00:01\r\u001b[K     |████████▏                       | 194 kB 4.1 MB/s eta 0:00:01\r\u001b[K     |████████▋                       | 204 kB 4.1 MB/s eta 0:00:01\r\u001b[K     |█████████                       | 215 kB 4.1 MB/s eta 0:00:01\r\u001b[K     |█████████▌                      | 225 kB 4.1 MB/s eta 0:00:01\r\u001b[K     |██████████                      | 235 kB 4.1 MB/s eta 0:00:01\r\u001b[K     |██████████▍                     | 245 kB 4.1 MB/s eta 0:00:01\r\u001b[K     |██████████▉                     | 256 kB 4.1 MB/s eta 0:00:01\r\u001b[K     |███████████▎                    | 266 kB 4.1 MB/s eta 0:00:01\r\u001b[K     |███████████▊                    | 276 kB 4.1 MB/s eta 0:00:01\r\u001b[K     |████████████                    | 286 kB 4.1 MB/s eta 0:00:01\r\u001b[K     |████████████▌                   | 296 kB 4.1 MB/s eta 0:00:01\r\u001b[K     |█████████████                   | 307 kB 4.1 MB/s eta 0:00:01\r\u001b[K     |█████████████▍                  | 317 kB 4.1 MB/s eta 0:00:01\r\u001b[K     |█████████████▉                  | 327 kB 4.1 MB/s eta 0:00:01\r\u001b[K     |██████████████▎                 | 337 kB 4.1 MB/s eta 0:00:01\r\u001b[K     |██████████████▊                 | 348 kB 4.1 MB/s eta 0:00:01\r\u001b[K     |███████████████▏                | 358 kB 4.1 MB/s eta 0:00:01\r\u001b[K     |███████████████▋                | 368 kB 4.1 MB/s eta 0:00:01\r\u001b[K     |████████████████                | 378 kB 4.1 MB/s eta 0:00:01\r\u001b[K     |████████████████▍               | 389 kB 4.1 MB/s eta 0:00:01\r\u001b[K     |████████████████▉               | 399 kB 4.1 MB/s eta 0:00:01\r\u001b[K     |█████████████████▎              | 409 kB 4.1 MB/s eta 0:00:01\r\u001b[K     |█████████████████▊              | 419 kB 4.1 MB/s eta 0:00:01\r\u001b[K     |██████████████████▏             | 430 kB 4.1 MB/s eta 0:00:01\r\u001b[K     |██████████████████▋             | 440 kB 4.1 MB/s eta 0:00:01\r\u001b[K     |███████████████████             | 450 kB 4.1 MB/s eta 0:00:01\r\u001b[K     |███████████████████▌            | 460 kB 4.1 MB/s eta 0:00:01\r\u001b[K     |███████████████████▉            | 471 kB 4.1 MB/s eta 0:00:01\r\u001b[K     |████████████████████▎           | 481 kB 4.1 MB/s eta 0:00:01\r\u001b[K     |████████████████████▊           | 491 kB 4.1 MB/s eta 0:00:01\r\u001b[K     |█████████████████████▏          | 501 kB 4.1 MB/s eta 0:00:01\r\u001b[K     |█████████████████████▋          | 512 kB 4.1 MB/s eta 0:00:01\r\u001b[K     |██████████████████████          | 522 kB 4.1 MB/s eta 0:00:01\r\u001b[K     |██████████████████████▌         | 532 kB 4.1 MB/s eta 0:00:01\r\u001b[K     |███████████████████████         | 542 kB 4.1 MB/s eta 0:00:01\r\u001b[K     |███████████████████████▍        | 552 kB 4.1 MB/s eta 0:00:01\r\u001b[K     |███████████████████████▊        | 563 kB 4.1 MB/s eta 0:00:01\r\u001b[K     |████████████████████████▏       | 573 kB 4.1 MB/s eta 0:00:01\r\u001b[K     |████████████████████████▋       | 583 kB 4.1 MB/s eta 0:00:01\r\u001b[K     |█████████████████████████       | 593 kB 4.1 MB/s eta 0:00:01\r\u001b[K     |█████████████████████████▌      | 604 kB 4.1 MB/s eta 0:00:01\r\u001b[K     |██████████████████████████      | 614 kB 4.1 MB/s eta 0:00:01\r\u001b[K     |██████████████████████████▍     | 624 kB 4.1 MB/s eta 0:00:01\r\u001b[K     |██████████████████████████▉     | 634 kB 4.1 MB/s eta 0:00:01\r\u001b[K     |███████████████████████████▎    | 645 kB 4.1 MB/s eta 0:00:01\r\u001b[K     |███████████████████████████▋    | 655 kB 4.1 MB/s eta 0:00:01\r\u001b[K     |████████████████████████████    | 665 kB 4.1 MB/s eta 0:00:01\r\u001b[K     |████████████████████████████▌   | 675 kB 4.1 MB/s eta 0:00:01\r\u001b[K     |█████████████████████████████   | 686 kB 4.1 MB/s eta 0:00:01\r\u001b[K     |█████████████████████████████▍  | 696 kB 4.1 MB/s eta 0:00:01\r\u001b[K     |█████████████████████████████▉  | 706 kB 4.1 MB/s eta 0:00:01\r\u001b[K     |██████████████████████████████▎ | 716 kB 4.1 MB/s eta 0:00:01\r\u001b[K     |██████████████████████████████▊ | 727 kB 4.1 MB/s eta 0:00:01\r\u001b[K     |███████████████████████████████▏| 737 kB 4.1 MB/s eta 0:00:01\r\u001b[K     |███████████████████████████████▌| 747 kB 4.1 MB/s eta 0:00:01\r\u001b[K     |████████████████████████████████| 757 kB 4.1 MB/s eta 0:00:01\r\u001b[K     |████████████████████████████████| 758 kB 4.1 MB/s \n",
            "\u001b[?25hRequirement already satisfied: numpy in /usr/local/lib/python3.7/dist-packages (from pycwt) (1.19.5)\n",
            "Requirement already satisfied: scipy in /usr/local/lib/python3.7/dist-packages (from pycwt) (1.4.1)\n",
            "Requirement already satisfied: matplotlib in /usr/local/lib/python3.7/dist-packages (from pycwt) (3.2.2)\n",
            "Requirement already satisfied: tqdm in /usr/local/lib/python3.7/dist-packages (from pycwt) (4.62.0)\n",
            "Requirement already satisfied: kiwisolver>=1.0.1 in /usr/local/lib/python3.7/dist-packages (from matplotlib->pycwt) (1.3.1)\n",
            "Requirement already satisfied: cycler>=0.10 in /usr/local/lib/python3.7/dist-packages (from matplotlib->pycwt) (0.10.0)\n",
            "Requirement already satisfied: python-dateutil>=2.1 in /usr/local/lib/python3.7/dist-packages (from matplotlib->pycwt) (2.8.2)\n",
            "Requirement already satisfied: pyparsing!=2.0.4,!=2.1.2,!=2.1.6,>=2.0.1 in /usr/local/lib/python3.7/dist-packages (from matplotlib->pycwt) (2.4.7)\n",
            "Requirement already satisfied: six in /usr/local/lib/python3.7/dist-packages (from cycler>=0.10->matplotlib->pycwt) (1.15.0)\n",
            "Building wheels for collected packages: pycwt\n",
            "  Building wheel for pycwt (setup.py) ... \u001b[?25l\u001b[?25hdone\n",
            "  Created wheel for pycwt: filename=pycwt-0.3.0a22-py3-none-any.whl size=17824 sha256=307f6f427e159e2d5d282e00a4377d72cb445b9644128928b5fb8ac6ce7eb682\n",
            "  Stored in directory: /root/.cache/pip/wheels/53/99/6b/a43c99414482c20862ca8917862237de8bd27ee795a55faa6c\n",
            "Successfully built pycwt\n",
            "Installing collected packages: pycwt\n",
            "Successfully installed pycwt-0.3.0a22\n"
          ]
        }
      ]
    },
    {
      "cell_type": "code",
      "metadata": {
        "id": "ElnO_Kxp5ot1"
      },
      "source": [
        "from pycwt import wavelet\n",
        "import pandas as pd \n",
        "import numpy as np\n",
        "import scipy.ndimage.measurements as ndi\n",
        "import os \n",
        "import glob \n",
        "import datetime\n",
        "from dateutil import relativedelta as rdelta\n",
        "import datetime as dt\n",
        " \n",
        "import matplotlib as mpl\n",
        "import pylab as plt\n",
        "from matplotlib.colors import LinearSegmentedColormap"
      ],
      "execution_count": null,
      "outputs": []
    },
    {
      "cell_type": "code",
      "metadata": {
        "id": "acRhMUjvrPkq"
      },
      "source": [
        "path_abs = '/content/drive/Shareddrives/Hidrología Aplicada'\n",
        "path_base = path_abs + '/1_Análisis de series hidrológicas/'\n",
        "path_series = path_base + '1_Series/' #Estaciones con datos brutos sin algunas fechas\n",
        "path_procesados = path_base + '1_Procesados/' #Con estas estaciones vamos a trabajar\n",
        "path_shapes = path_base + '2_Shapes/'\n",
        "path_departamentos = path_shapes + 'MGN_DPTO_POLITICO'\n",
        "path_figuras = path_base + '3_Figuras/'\n",
        " \n",
        "archivos = glob.glob(path_procesados + '*')\n",
        "archivos.sort()\n",
        "procesados = np.sort(glob.glob(path_procesados + '*'))"
      ],
      "execution_count": null,
      "outputs": []
    },
    {
      "cell_type": "code",
      "metadata": {
        "id": "v2yidUJ7qUJK"
      },
      "source": [
        "info_estaciones = pd.read_csv(path_base + '01_Informacion_Estaciones.csv', index_col = 0)\n",
        "info_estaciones.sort_index()\n",
        "estaciones_analisis =  info_estaciones[info_estaciones['SiAnalizar'] == True]"
      ],
      "execution_count": null,
      "outputs": []
    },
    {
      "cell_type": "markdown",
      "metadata": {
        "id": "K6FWI3VfBvCr"
      },
      "source": [
        "# Onditas"
      ]
    },
    {
      "cell_type": "markdown",
      "metadata": {
        "id": "loEkCjPNByoJ"
      },
      "source": [
        "## Funciones Onditas"
      ]
    },
    {
      "cell_type": "code",
      "metadata": {
        "id": "981ypgt35vQo"
      },
      "source": [
        "def Onditas_Continuas(serie, delta_time):\n",
        "\n",
        "    x = serie\n",
        "    fechas = x.index\n",
        "\n",
        "    import pandas as pd\n",
        "    import numpy as np\n",
        "    import pycwt as wavelet\n",
        "    from pycwt.helpers import find\n",
        "\n",
        "    data_inicio = serie.index[0].year\n",
        "    data_fin = serie.index[-1].year\n",
        "\n",
        "    s = np.array(x)\n",
        "    t = np.linspace(0, len(s)*delta_time, len(x))\n",
        "    dt = np.diff(t)[0]\n",
        "    n = t.size\n",
        "\n",
        "    # Calculate the CWT of both time series. The function wavelet.cwt\n",
        "\n",
        "    mother = wavelet.Morlet(6.)         # Morlet mother wavelet with m=6\n",
        "    slevel = 0.95                       # Significance level\n",
        "    dj     = 1/12.                      # Twelve sub-octaves per octaves\n",
        "    s0     = 20*dt                      # Starting scale\n",
        "    J      = 7/dj                       # Seven powers of two with dj sub-octaves\n",
        "\n",
        "    if True:\n",
        "        alpha, _, _ = wavelet.ar1(s)  # Lag-1 autocorrelation for red noise\n",
        "    else:\n",
        "        alpha = 0.0                    # Lag-1 autocorrelation for white noise\n",
        "\n",
        "    #The following routines perform the wavelet transform and siginificance\n",
        "    W, scales, freqs, coi, _, _ = wavelet.cwt(s, dt, dj, s0, J, mother)\n",
        "    signif, fft_theor = wavelet.significance(1.0, dt, scales, 0, alpha, significance_level = slevel, wavelet = mother)\n",
        "\n",
        "    power = (np.abs(W)) ** 2            # Power spectrum\n",
        "    period = 1/freqs\n",
        "    sig95 = np.ones([1, n]) * signif[:, None]\n",
        "    sig95 = power/sig95               # Where ratio > 1, power is significant\n",
        "\n",
        "    return power, sig95, period, coi, fechas\n",
        "\n",
        "#Función para graficar el espectro de onditas\n",
        "def GraficaOnditas(power, period, sig95, coi, fechas, ruta_save):\n",
        "\n",
        "    import matplotlib.pyplot as plt\n",
        "    import matplotlib.ticker as ticker\n",
        "\n",
        "    period = period*365\n",
        "\n",
        "    csfont = {'fontname':'serif', 'size':16,'weight' : 500}\n",
        "    plt.rcParams['font.family'] = 'serif'\n",
        "    plt.rcParams['font.size'] = 16\n",
        "    plt.rcParams[\"figure.titleweight\"] = 'normal'\n",
        "\n",
        "    fig = plt.figure(figsize=(8,5))\n",
        "    ax = fig.add_subplot(1, 1, 1)\n",
        "\n",
        "    a = np.min(power)\n",
        "    b = np.nanmean(power[:np.where(period>=160)[0][0]])*3.5\n",
        "    bounds = np.arange(a, b, (b-a)/100.)\n",
        "\n",
        "    plt.contourf(fechas, period, power, len(bounds), cmap = plt.cm.jet, levels = bounds, extend = 'max')\n",
        "    plt.colorbar(format ='%1.f').set_label(u'Potencia', **csfont)\n",
        "\n",
        "    plt.xlim(fechas[0], fechas[-1])\n",
        "    plt.ylim([np.min(period), np.max(period)])\n",
        "    plt.xticks(rotation=90)\n",
        "    plt.ylabel(u'Frecuencia (días)', **csfont)\n",
        "    ax.set_yscale('log', basey=2, subsy=None)\n",
        "\n",
        "    yticks=[[30,60,90,180,365,1460], [30,60,90,180,365,1460]]\n",
        "    plt.yticks(yticks[0], yticks[1])\n",
        "\n",
        "    axx = plt.gca().yaxis\n",
        "    axx.set_major_formatter(ticker.ScalarFormatter())\n",
        "    ax.ticklabel_format(axis='y', style='plain')\n",
        "    ax.invert_yaxis()\n",
        "\n",
        "    plt.contour(fechas, period, sig95, [1, 99], colors='k')\n",
        "\n",
        "    delta = fechas[1] - fechas[0]\n",
        "    plt.fill(np.concatenate([fechas, fechas[-1:]+delta, fechas[-1:]+delta, fechas[:1]-delta, fechas[:1]-delta]), \n",
        "             np.concatenate([coi*365, [1e-9], period[-1:], period[-1:], [1e-9]]),\n",
        "             'w', alpha=0.6, hatch='x', edgecolor='dimgray')\n",
        "    plt.savefig(ruta_save, bbox_inches='tight', dpi = 200)\n",
        "    plt.close()\n",
        "\n",
        "\n",
        "\n",
        "year = 5\n",
        "def resample_func(values):\n",
        "    if np.isnan(values).all():\n",
        "        return np.nan\n",
        "    else:\n",
        "        return np.mean(values)\n",
        "\n",
        "\n",
        "def standardize(data, pandas_stat):   #'dayofyear'\n",
        "    # noinspection PyBroadException\n",
        "    try:\n",
        "        data_nan = data.loc[pd.isnull(data).any(1), :]\n",
        "        data = data.dropna()\n",
        "\n",
        "    except:\n",
        "        pass\n",
        "\n",
        "    # groups = data.groupby(by=data.index.dayofyear)\n",
        "    groups = data.groupby(by=getattr(data.index, pandas_stat))\n",
        "\n",
        "    data_mean = np.zeros(len(groups))\n",
        "    data_std = np.zeros(len(groups))\n",
        "\n",
        "    for date_element, group in groups:\n",
        "        mean = group.mean(skipna=True)\n",
        "        std = group.std(skipna=True)\n",
        "\n",
        "        data_mean[date_element - 1] = mean\n",
        "        data_std[date_element - 1] = std\n",
        "\n",
        "        anomalies_temp = (group - mean)\n",
        "        anomalies_std_temp = anomalies_temp / std\n",
        "\n",
        "        if date_element == 1:\n",
        "            anomalies = anomalies_temp\n",
        "            anomalies_std = anomalies_std_temp\n",
        "        else:\n",
        "            anomalies = pd.concat([anomalies, anomalies_temp])\n",
        "            anomalies_std = pd.concat([anomalies_std, anomalies_std_temp])\n",
        "\n",
        "    # noinspection PyBroadException\n",
        "    try:\n",
        "        anomalies = pd.concat([anomalies, data_nan])\n",
        "        anomalies_std = pd.concat([anomalies_std, data_nan])\n",
        "\n",
        "    except:\n",
        "        pass\n",
        "\n",
        "    anomalies = pd.DataFrame(anomalies.sort_index())\n",
        "    anomalies_std = pd.DataFrame(anomalies_std.sort_index())\n",
        "\n",
        "    return anomalies, anomalies_std, data_mean, data_std"
      ],
      "execution_count": null,
      "outputs": []
    },
    {
      "cell_type": "markdown",
      "metadata": {
        "id": "TyhvyXf3CIzn"
      },
      "source": [
        "## Series"
      ]
    },
    {
      "cell_type": "code",
      "metadata": {
        "id": "6PB9DWc6CSx0"
      },
      "source": [],
      "execution_count": null,
      "outputs": []
    },
    {
      "cell_type": "markdown",
      "metadata": {
        "id": "lHVgmR8NB4T7"
      },
      "source": [
        "## Análisis Onditas"
      ]
    },
    {
      "cell_type": "code",
      "metadata": {
        "colab": {
          "base_uri": "https://localhost:8080/",
          "height": 337
        },
        "id": "KHMGj_6aDXLu",
        "outputId": "d0ec9daf-f470-4a86-f563-5f19a3012b38"
      },
      "source": [
        "plt.figure(figsize=[15, 5])\n",
        "plt.plot(data)"
      ],
      "execution_count": null,
      "outputs": [
        {
          "output_type": "execute_result",
          "data": {
            "text/plain": [
              "[<matplotlib.lines.Line2D at 0x7fc6c4de3210>]"
            ]
          },
          "metadata": {
            "tags": []
          },
          "execution_count": 16
        },
        {
          "output_type": "display_data",
          "data": {
            "image/png": "[encoded data removed]",
            "text/plain": [
              "<Figure size 1080x360 with 1 Axes>"
            ]
          },
          "metadata": {
            "tags": [],
            "needs_background": "light"
          }
        }
      ]
    },
    {
      "cell_type": "code",
      "metadata": {
        "id": "30V9WBfsDIb3",
        "colab": {
          "base_uri": "https://localhost:8080/",
          "height": 231
        },
        "outputId": "0ec0f043-8dfe-4d7a-88d4-f0afe41ac249"
      },
      "source": [
        "df_raw = data\n",
        "clim = serie_mean\n",
        "limit = 10\n",
        "variable = 'Q'\n",
        "def completa_climatologia(df_raw, clim, limit, variable='Q'):\n",
        "    df = df_raw.copy()\n",
        "    valid_rows = df.isnull().any(axis=1)\n",
        "    label, _ = ndi.label(valid_rows)\n",
        "    groups =  df.groupby(label)\n",
        "\n",
        "    df_clim = pd.DataFrame({'Q': clim}, columns=[variable],\n",
        "                        index=pd.date_range(dt.datetime(2000, 1,1), periods=366, freq='D'))\n",
        "\n",
        "    for aux, group in groups:\n",
        "        if len(group) <= limit:\n",
        "            for date in group.index:\n",
        "                df.loc[date] = df_clim.loc[dt.datetime(year=2000, month=date.month, day=date.day)]\n",
        "\n",
        "    return df\n",
        "\n",
        "df_new = completa_climatologia(df_raw, clim, limit)"
      ],
      "execution_count": null,
      "outputs": [
        {
          "output_type": "error",
          "ename": "NameError",
          "evalue": "ignored",
          "traceback": [
            "\u001b[0;31m---------------------------------------------------------------------------\u001b[0m",
            "\u001b[0;31mNameError\u001b[0m                                 Traceback (most recent call last)",
            "\u001b[0;32m<ipython-input-7-1f96b1eaca50>\u001b[0m in \u001b[0;36m<module>\u001b[0;34m()\u001b[0m\n\u001b[0;32m----> 1\u001b[0;31m \u001b[0mdf_raw\u001b[0m \u001b[0;34m=\u001b[0m \u001b[0mdata\u001b[0m\u001b[0;34m\u001b[0m\u001b[0;34m\u001b[0m\u001b[0m\n\u001b[0m\u001b[1;32m      2\u001b[0m \u001b[0mclim\u001b[0m \u001b[0;34m=\u001b[0m \u001b[0mserie_mean\u001b[0m\u001b[0;34m\u001b[0m\u001b[0;34m\u001b[0m\u001b[0m\n\u001b[1;32m      3\u001b[0m \u001b[0mlimit\u001b[0m \u001b[0;34m=\u001b[0m \u001b[0;36m10\u001b[0m\u001b[0;34m\u001b[0m\u001b[0;34m\u001b[0m\u001b[0m\n\u001b[1;32m      4\u001b[0m \u001b[0mvariable\u001b[0m \u001b[0;34m=\u001b[0m \u001b[0;34m'Q'\u001b[0m\u001b[0;34m\u001b[0m\u001b[0;34m\u001b[0m\u001b[0m\n\u001b[1;32m      5\u001b[0m \u001b[0;32mdef\u001b[0m \u001b[0mcompleta_climatologia\u001b[0m\u001b[0;34m(\u001b[0m\u001b[0mdf_raw\u001b[0m\u001b[0;34m,\u001b[0m \u001b[0mclim\u001b[0m\u001b[0;34m,\u001b[0m \u001b[0mlimit\u001b[0m\u001b[0;34m,\u001b[0m \u001b[0mvariable\u001b[0m\u001b[0;34m=\u001b[0m\u001b[0;34m'Q'\u001b[0m\u001b[0;34m)\u001b[0m\u001b[0;34m:\u001b[0m\u001b[0;34m\u001b[0m\u001b[0;34m\u001b[0m\u001b[0m\n",
            "\u001b[0;31mNameError\u001b[0m: name 'data' is not defined"
          ]
        }
      ]
    },
    {
      "cell_type": "code",
      "metadata": {
        "colab": {
          "base_uri": "https://localhost:8080/"
        },
        "id": "mdTw1AJhlOjt",
        "outputId": "617f6f1d-2ac3-42c6-82ca-e8d7d0e8d230"
      },
      "source": [
        "completa_climatologia(serie, serie_mean, 15).isnull().sum(), serie.isnull().sum()"
      ],
      "execution_count": null,
      "outputs": [
        {
          "output_type": "execute_result",
          "data": {
            "text/plain": [
              "(Q    756\n",
              " dtype: int64, Q    1132\n",
              " dtype: int64)"
            ]
          },
          "metadata": {
            "tags": []
          },
          "execution_count": 260
        }
      ]
    },
    {
      "cell_type": "code",
      "metadata": {
        "colab": {
          "base_uri": "https://localhost:8080/"
        },
        "id": "t3-4PGESobwi",
        "outputId": "d97b9cd8-122a-4398-cc12-3ba5ee04d185"
      },
      "source": [
        "serie.isnull().sum()\n"
      ],
      "execution_count": null,
      "outputs": [
        {
          "output_type": "execute_result",
          "data": {
            "text/plain": [
              "Q    838\n",
              "dtype: int64"
            ]
          },
          "metadata": {
            "tags": []
          },
          "execution_count": 248
        }
      ]
    },
    {
      "cell_type": "code",
      "metadata": {
        "id": "0E3gAaiKno3S"
      },
      "source": [
        "serie = completa_climatologia(serie, serie_mean, limit)"
      ],
      "execution_count": null,
      "outputs": []
    },
    {
      "cell_type": "code",
      "metadata": {
        "id": "GoevIA2Aa6s3"
      },
      "source": [
        "list1 = []\n",
        "list2 = []"
      ],
      "execution_count": null,
      "outputs": []
    },
    {
      "cell_type": "code",
      "metadata": {
        "colab": {
          "base_uri": "https://localhost:8080/"
        },
        "id": "e0ESNN7Sm6nC",
        "outputId": "2643f209-4423-4995-8b69-4135b2f430bd"
      },
      "source": [
        "valid_rows = ~serie.isnull().any(axis=1)\n",
        "label, num_feature = ndi.label(valid_rows)\n",
        "label_of_biggest_group =  valid_rows.groupby(label).count().drop(0).argmax()\n",
        "print(serie.loc[label == label_of_biggest_group])"
      ],
      "execution_count": null,
      "outputs": [
        {
          "output_type": "stream",
          "text": [
            "                     Q\n",
            "1976-01-01   72.847810\n",
            "1976-01-02   -4.168800\n",
            "1976-01-03  -47.051016\n",
            "1976-01-04 -153.497967\n",
            "1976-01-05  -39.572917\n",
            "...                ...\n",
            "1982-12-27   61.917113\n",
            "1982-12-28   22.306270\n",
            "1982-12-29    0.583333\n",
            "1982-12-30  -41.985518\n",
            "1982-12-31  -74.433783\n",
            "\n",
            "[2557 rows x 1 columns]\n"
          ],
          "name": "stdout"
        }
      ]
    },
    {
      "cell_type": "code",
      "metadata": {
        "colab": {
          "base_uri": "https://localhost:8080/",
          "height": 36
        },
        "id": "9iKv49LNnVCr",
        "outputId": "3502b875-d273-4c24-ddcf-4e1854b7a20d"
      },
      "source": [
        "nombre_estacion"
      ],
      "execution_count": null,
      "outputs": [
        {
          "output_type": "execute_result",
          "data": {
            "application/vnd.google.colaboratory.intrinsic+json": {
              "type": "string"
            },
            "text/plain": [
              "'SAN ANTONIO PADUA  - AUT [11057020]'"
            ]
          },
          "metadata": {
            "tags": []
          },
          "execution_count": 240
        }
      ]
    },
    {
      "cell_type": "code",
      "metadata": {
        "colab": {
          "base_uri": "https://localhost:8080/"
        },
        "id": "OpgF_Pzoq5lk",
        "outputId": "6f9e9f66-f762-4147-b3fe-00cb21d28034"
      },
      "source": [
        "for aux, codigo in enumerate(estaciones_analisis.index):\n",
        "    data = pd.read_csv(path_procesados + str(codigo) + '.csv', index_col = 0, parse_dates = True)   \n",
        "    nombre_estacion = info_estaciones.loc[codigo, 'NombreEstacion']\n",
        "    data['Q'][data['Q']<0] = np.nan\n",
        "  \n",
        "    serie = data['Q']\n",
        "    _, serie_anom, serie_mean, serie_std = standardize(data['Q'], 'dayofyear')\n",
        "    # serie = completa_climatologia(serie, serie_mean, 10)\n",
        "\n",
        "    pos_nan = list(np.where(np.isnan(serie_anom)==True)[0])\n",
        "\n",
        "    if pos_nan!=[]:\n",
        "        pos_nan.insert(0, 0)\n",
        "        dif = serie_anom.index[pos_nan][1:]-serie_anom.index[pos_nan][:-1]\n",
        "        ini = pos_nan[np.where(dif==max(dif))[0][0]]\n",
        "        fin = pos_nan[np.where(dif==max(dif))[0][0] + 1]\n",
        "        serie_anom = serie_anom[ini+1:fin]\n",
        "        serie = serie[serie_anom.index[0]:serie_anom.index[-1]]\n",
        "    else:\n",
        "        serie = serie[serie_anom.index[0]:serie_anom.index[-1]]\n",
        "        \n",
        "        serie_anom = pd.Series(serie_anom, index=serie_anom.index)\n",
        "        serie = pd.Series(serie, index=serie.index)\n",
        "    \n",
        "    print(len(serie), round(len(serie)/365, 0), nombre_estacion)\n",
        "    list2.append(len(serie))\n",
        "\n",
        "    break\n",
        "    \n",
        "    # if len(serie_anom)>365*year:\n",
        "        \n",
        "    #     delta_time = 1/365\n",
        "    #     power, sig95, period, coi, fechas = Onditas_Continuas(serie, delta_time)\n",
        "    #     ruta_save = '/content/drive/Shareddrives/Hidrología Aplicada/1_Análisis de series hidrológicas/3_Figuras/Onditas/Sin_anomalias/Sin_anom' + nombre_estacion + '.png'\n",
        "    #     GraficaOnditas(power, period, sig95, coi, fechas, ruta_save)\n",
        "    #     # power, sig95, period, coi, fechas = Onditas_Continuas(serie_anom, delta_time)\n",
        "    #     # ruta_save = '/content/drive/Shareddrives/Hidrología Aplicada/1_Análisis de series hidrológicas/3_Figuras/Onditas/Anomalias/Anom' + nombre_estacion + '.png'\n",
        "    #     # GraficaOnditas(power, period, sig95, coi, fechas, ruta_save)\n",
        "    # else:\n",
        "    #     pass\n",
        "\n"
      ],
      "execution_count": null,
      "outputs": [
        {
          "output_type": "stream",
          "name": "stdout",
          "text": [
            "4202 12.0 SAN ANTONIO PADUA  - AUT [11057020]\n"
          ]
        }
      ]
    },
    {
      "cell_type": "code",
      "metadata": {
        "id": "rIB_NDSE1SK0"
      },
      "source": [
        "for i, j in zip(list1, list2):\n",
        "    print(i, j, i-j)"
      ],
      "execution_count": null,
      "outputs": []
    },
    {
      "cell_type": "code",
      "metadata": {
        "id": "dGfqyIUC1bPm",
        "colab": {
          "base_uri": "https://localhost:8080/"
        },
        "outputId": "44e1630e-dc76-438c-8980-c5234fa1b5f9"
      },
      "source": [
        "serie"
      ],
      "execution_count": null,
      "outputs": [
        {
          "output_type": "execute_result",
          "data": {
            "text/plain": [
              "1983-05-01    1713.0\n",
              "1983-05-02    1434.0\n",
              "1983-05-03    1230.0\n",
              "1983-05-04    1238.0\n",
              "1983-05-05    1475.0\n",
              "               ...  \n",
              "1994-10-27    1401.0\n",
              "1994-10-28    1195.0\n",
              "1994-10-29    1235.0\n",
              "1994-10-30    1343.0\n",
              "1994-10-31    1280.0\n",
              "Name: Q, Length: 4202, dtype: float64"
            ]
          },
          "metadata": {},
          "execution_count": 11
        }
      ]
    }
  ]
}