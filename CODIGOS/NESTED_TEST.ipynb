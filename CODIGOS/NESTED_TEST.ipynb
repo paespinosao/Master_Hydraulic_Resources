{
 "cells": [
  {
   "cell_type": "code",
   "execution_count": 1,
   "metadata": {},
   "outputs": [],
   "source": [
    "import numpy as np\n",
    "import pandas as pd\n",
    "import matplotlib.pyplot as plt\n",
    "from   datetime import timedelta\n",
    "import datetime\n",
    "import matplotlib as mpl\n",
    "import glob\n",
    "import os\n",
    "from matplotlib import cm\n",
    "import matplotlib.dates as mdates\n",
    "from matplotlib import font_manager as fm\n",
    "from matplotlib.ticker import ScalarFormatter, FormatStrFormatter\n",
    "from mpl_toolkits.axes_grid1 import make_axes_locatable\n",
    "import mat73\n",
    "from pytides2.tide import Tide\n",
    "import pytides2.constituent  as cons\n",
    "import pytides2.astro as astro\n",
    "from pyproj import Proj\n",
    "import oceanlyz\n",
    "import warnings\n",
    "import matplotlib.pylab as pl\n",
    "from scipy import signal\n",
    "from os.path import dirname, join as pjoin\n",
    "import scipy.io as sio\n",
    "from netCDF4 import Dataset\n",
    "from netCDF4 import num2date\n",
    "from pytz import timezone\n",
    "import pytz\n",
    "\n",
    "\n",
    "\n",
    "warnings.filterwarnings('ignore')\n",
    "plt.style.use('default')\n",
    "\n",
    "import cartopy\n",
    "import cartopy.crs as ccrs\n",
    "import cartopy.feature as cf\n",
    "from cartopy.mpl.gridliner import LONGITUDE_FORMATTER, LATITUDE_FORMATTER\n",
    "\n",
    "import seawater as sw"
   ]
  },
  {
   "cell_type": "code",
   "execution_count": 2,
   "metadata": {},
   "outputs": [],
   "source": [
    "path_font=r\"G:\\My drive\\TESIS_MAESTRIA_PAULAE\\Fonts\\Quicksand\"\n",
    "\n",
    "prop1 = fm.FontProperties(fname=path_font+'\\Quicksand-Medium.ttf')\n",
    "prop2 = fm.FontProperties(fname=path_font+'\\Quicksand-SemiBold.ttf')\n",
    "prop1.set_size(12)"
   ]
  },
  {
   "cell_type": "code",
   "execution_count": 3,
   "metadata": {},
   "outputs": [],
   "source": [
    "# Funciones\n",
    "def proj_ZONE17 (lon, lat):\n",
    "    \"\"\"\n",
    "    Función para cambiar las proyecciones de las coordenadas:\n",
    "    Input:\n",
    "    lon, lat\n",
    "    ----------------------------------------------------------\n",
    "    Output:\n",
    "    UTMX, UTMY\n",
    "    \"\"\"\n",
    "    myProj = Proj(\"+proj=utm +zone=17 +ellps=WGS84 +datum=WGS84\")\n",
    "    UTMx, UTMy = myProj(lon, lat)\n",
    "    return UTMx,UTMy\n",
    "\n",
    "def coord_wgs (UTMx,UTMy):\n",
    "    \"\"\"\n",
    "    Función para cambiar georeferenciar las proyecciones:\n",
    "    Input:\n",
    "    UTMX, UTMY\n",
    "    ----------------------------------------------------------\n",
    "    Output:\n",
    "    lon, lat\n",
    "    \"\"\"\n",
    "    myProj = Proj(\"+proj=utm +zone=17 +ellps=WGS84 +datum=WGS84\")\n",
    "    lon, lat = myProj(UTMx,UTMy, inverse = True)\n",
    "    return 360 + lon, lat\n",
    "\n",
    "def min_ind (value, vector, delta):\n",
    "    \"\"\"Función para encontrar la mínima diferencia entre dos celdas\n",
    "    Input: \n",
    "    - Value: valor a encontrar \n",
    "    - Vector: vectores donde quiere encontrar dicho valor\n",
    "    - delta: radio para encontrar ese valor \n",
    "    ----------------------------------------------------------------------\n",
    "    Output: \n",
    "    - Ind: indices donde mayor se aproxima el valor buscado a los vectores\n",
    "    \"\"\"\n",
    "    indices = np.where((vector > value-(delta)) & (vector < value+(delta)))[0]\n",
    "    for i in indices: \n",
    "        try :\n",
    "            if vector[i] - value < vector[i+1] - value:\n",
    "                ind = i\n",
    "            else:\n",
    "                ind = i+1\n",
    "        except:\n",
    "            print('**********ERROR************')\n",
    "    print('Indice:',ind,', Valor:', vector[ind], ', Valor real:', value)\n",
    "\n",
    "    return ind"
   ]
  },
  {
   "attachments": {},
   "cell_type": "markdown",
   "metadata": {},
   "source": [
    "# Importar datos"
   ]
  },
  {
   "cell_type": "code",
   "execution_count": 16,
   "metadata": {},
   "outputs": [],
   "source": [
    "# Batimetría \n",
    "path = r'G:\\My Drive\\TESIS_MAESTRIA_PAULAE\\MODELO_NUMERICO\\CALIBRACION\\BAT_SAI_100m_GENERAL3'\n",
    "delta = 100\n",
    "x = np.array ([411994.0299 + i*delta for i in range(226)]) # Menor longitud, Numero de divisiones revisar archivo ASCI (output ARCGIS)\n",
    "y = np.array ([1374834.8555 + i*delta for i in range (225)])        # Menor Latitud,  Numero de divisiones revisar archivo ASCI (output ARCGIS)\n",
    "z = np.flipud(np.genfromtxt(path+'\\IDW_BAT_SAI_GENERAL.txt',skip_header = 6))\n",
    "z[z < 0] = np.nan # Z donde es tierra\n",
    "\n",
    "# Suavizar la grilla\n",
    "kernel = np.ones((1,1))/1.\n",
    "z_smooth = signal.convolve2d(z, kernel, \"same\")\n",
    "z_smooth = np.ma.masked_array(z, mask=np.isnan(z_smooth))\n",
    "x_new = x.copy()\n",
    "y_new = y.copy()\n",
    "z_new = z_smooth.copy()\n",
    "\n",
    "# Linea de costa data_dir = pjoin(dirname(sio.__file__), r\"G:\\My drive\\TESIS_MAESTRIA_PAULAE\\MODELO_NUMERICO\\BATIMETRIA\\Linea_COSTA_UTM\") # Definir Ruta\n",
    "data_dir = pjoin(dirname(sio.__file__), r\"G:\\My drive\\TESIS_MAESTRIA_PAULAE\\MODELO_NUMERICO\\BATIMETRIA\\Linea_COSTA_UTM\") # Definir Ruta\n",
    "mat_fname = pjoin(data_dir, 'linea_Costa.mat')     # Econtrar el archivo\n",
    "data_mat = sio.loadmat(mat_fname)                 # Cargar el archivo\n",
    "xlc, ylc = np.array(data_mat['data'][0][0][0]), np.array(data_mat['data'][0][0][1])\n",
    "lc=np.column_stack((xlc,ylc))"
   ]
  },
  {
   "cell_type": "code",
   "execution_count": 17,
   "metadata": {},
   "outputs": [
    {
     "name": "stdout",
     "output_type": "stream",
     "text": [
      "22.4\n",
      "22.5\n"
     ]
    }
   ],
   "source": [
    "print((np.nanmax(y_new) - np.nanmin(y_new))/1000)\n",
    "print((np.nanmax(x_new) - np.nanmin(x_new))/1000)"
   ]
  },
  {
   "cell_type": "code",
   "execution_count": 18,
   "metadata": {},
   "outputs": [
    {
     "data": {
      "image/png": "[encoded data removed]",
      "text/plain": [
       "<Figure size 500x400 with 2 Axes>"
      ]
     },
     "metadata": {},
     "output_type": "display_data"
    }
   ],
   "source": [
    "fig, ax = plt.subplots(figsize = (5,4))\n",
    "colormap = cm.Blues\n",
    "levels = list(np.round(np.nanmax(z_new)*np.array([0,1, 5, 10, 15, 20, 25, 50, 75, 99])/100,0))\n",
    "pc = ax.contourf(x_new, y_new, z_new,levels = levels,cmap=colormap)\n",
    "cb=plt.colorbar(pc)\n",
    "a = ax.contour(x_new, y_new, z_new,colors=\"gray\",levels=levels,\\\n",
    "                linewidths=0.2)\n",
    "labels = plt.clabel(a, fontsize=8, inline=1, fmt = '%1.0f', colors=\"gray\")\n",
    "ax.set_xlabel ('E [m]',size=12,fontproperties=prop1)\n",
    "ax.set_ylabel ('N [m]',size=12,fontproperties=prop1)\n",
    "ax.plot(lc[:,0], lc[:,1], \"-k\", lw=2)\n",
    "ax.set_xlim([x_new.min(), x_new.max()])\n",
    "ax.set_ylim([y_new.min(), y_new.max()])\n",
    "ax.xaxis.set_major_formatter(FormatStrFormatter('%.1f'))\n",
    "ax.yaxis.set_major_formatter(FormatStrFormatter('%.1f'))\n",
    "cb.set_label('Depth [m]',size=12,fontproperties=prop1)\n",
    "cb.set_ticklabels(cb.get_ticks(), fontproperties=prop1, color='gray',size=8)\n",
    "ax.set_yticklabels(ax.get_yticks(), fontproperties=prop1,color='gray',size = 6)\n",
    "ax.set_xticklabels(ax.get_xticks(), fontproperties=prop1,color='gray',size = 6)\n",
    "fig.suptitle(\"Bathymetry\", size = 12,fontproperties=prop2)     # Titulo de la figura\n",
    "ax.set_title('San Andrés Island',size = 12,fontproperties=prop1)   # Subtítulo de la figura\n",
    "ax.plot(lc[:,0], lc[:,1], \"-\",c='chocolate', lw=2.5, alpha = 0.9)\n",
    "\n",
    "fig.tight_layout()\n",
    "# plt.xticks(rotation = 20)\n",
    "plt.grid(False)"
   ]
  },
  {
   "cell_type": "code",
   "execution_count": 19,
   "metadata": {},
   "outputs": [
    {
     "data": {
      "text/plain": [
       "22400.0"
      ]
     },
     "execution_count": 19,
     "metadata": {},
     "output_type": "execute_result"
    }
   ],
   "source": [
    "(max(y_new)-min(y_new))"
   ]
  },
  {
   "attachments": {},
   "cell_type": "markdown",
   "metadata": {},
   "source": [
    "# Layer thickness"
   ]
  },
  {
   "cell_type": "code",
   "execution_count": 20,
   "metadata": {},
   "outputs": [],
   "source": [
    "thickness = np.array([0.05, 0.8, 1.6, 2, 3, 3.7, 5.2, 12.4, 33.45, 37.8])*np.nanmax(z)/100"
   ]
  },
  {
   "attachments": {},
   "cell_type": "markdown",
   "metadata": {},
   "source": [
    "# Condiciones de frontera"
   ]
  },
  {
   "cell_type": "code",
   "execution_count": 7,
   "metadata": {},
   "outputs": [],
   "source": [
    "path = r\"G:\\My drive\\TESIS_MAESTRIA_PAULAE\\MODELO_NUMERICO\\BATIMETRIA\\BAT_200m\"\n",
    "delta = 200                                           # Tamaño de la grilla \n",
    "x = np.array ([404758.9787 + i*delta for i in range(203)]) # Menor longitud, Numero de divisiones revisar archivo ASCI (output ARCGIS)\n",
    "y = np.array ([1368354.4849 + i*delta for i in range (208)])        # Menor Latitud,  Numero de divisiones revisar archivo ASCI (output ARCGIS)\n",
    "z = np.flipud(np.genfromtxt(path+'\\idw_200m.txt',skip_header = 6))\n",
    "z[z == -9999] = np.nan # Z donde es tierra"
   ]
  },
  {
   "cell_type": "code",
   "execution_count": 8,
   "metadata": {},
   "outputs": [],
   "source": []
  },
  {
   "cell_type": "code",
   "execution_count": 9,
   "metadata": {},
   "outputs": [
    {
     "name": "stdout",
     "output_type": "stream",
     "text": [
      "Indice: 50 , Valor: 414758.9787 , Valor real: 414707.375\n",
      "Indice: 136 , Valor: 431958.9787 , Valor real: 431907.375\n",
      "Indice: 44 , Valor: 1377154.4849 , Valor real: 1377008.875\n",
      "Indice: 138 , Valor: 1395954.4849 , Valor real: 1395908.875\n"
     ]
    }
   ],
   "source": [
    "# Match whit big grid (200m)\n",
    "x_min, x_max = np.min(x_new), np.max(x_new)\n",
    "y_min, y_max = np.min(y_new), np.max(y_new)\n",
    "\n",
    "indx_min, indx_max = min_ind(value = x_min, vector= x, delta = 200 ), min_ind(value = x_max, vector= x, delta = 200 )\n",
    "indy_min, indy_max = min_ind(value = y_min, vector= y, delta = 200 ), min_ind(value = y_max, vector= y, delta = 200 )"
   ]
  },
  {
   "cell_type": "code",
   "execution_count": 10,
   "metadata": {},
   "outputs": [],
   "source": [
    "def load_mat_files(path):\n",
    "    \"\"\"\n",
    "    INPUTS: \n",
    "    - path: path of file\n",
    "    ------------------------------------------------------------------------\n",
    "    OUTPUT:\n",
    "    - Dictionary of data\n",
    "    \"\"\"\n",
    "    # path = 'G:\\My Drive\\TESIS_MAESTRIA_PAULAE\\MODELO_NUMERICO\\CODIGOS'\n",
    "    prop_mat_data = mat73.loadmat(path)\n",
    "    dic_data = prop_mat_data['data']\n",
    "    return dic_data"
   ]
  },
  {
   "cell_type": "code",
   "execution_count": 13,
   "metadata": {},
   "outputs": [],
   "source": [
    "paths_vel = glob.glob(r\"C:\\Users\\paula\\Desktop\\Files_test14\\vel*.mat\")\n",
    "paths_wl = glob.glob(r\"C:\\Users\\paula\\Desktop\\Files_test14\\water*.mat\")"
   ]
  },
  {
   "cell_type": "code",
   "execution_count": 14,
   "metadata": {},
   "outputs": [],
   "source": [
    "# Time\n",
    "py_datetime = [datetime.datetime.fromordinal(int(i)) + timedelta(days=i%1) - timedelta(days = 366) for i in load_mat_files(paths_vel[0])['Time']]\n",
    "time_df = [datetime.datetime(i.year, i.month, i.day, i.hour, i.minute, i.second) for i in py_datetime]\n",
    "minutes = np.array([((time_df[i] - time_df[0]).days*1440)+((time_df[i] - time_df[0]).seconds/60) for i in range (0,len(time_df))])\n"
   ]
  },
  {
   "attachments": {},
   "cell_type": "markdown",
   "metadata": {},
   "source": [
    "$f(t)=U+\\zeta\\sqrt{\\frac{g}{d}}$"
   ]
  },
  {
   "attachments": {},
   "cell_type": "markdown",
   "metadata": {},
   "source": [
    "where $U$ in m/s is depth-averaged velocity in $x$ or ξ direction, $\\zeta$ in m is water level above some horizontal plane of reference (datum),  $d$ an $g$ are depth below some horizontal plane of reference (datum) and acceleration due to gravity in m and m/s respectively."
   ]
  },
  {
   "cell_type": "code",
   "execution_count": 15,
   "metadata": {},
   "outputs": [],
   "source": [
    "def riemman(u, wl, depth_s, depth_vector):\n",
    "    \"\"\"\n",
    "    Input:\n",
    "    u:  Velcidad en la coordenada u\n",
    "    wl: nivel del agua\n",
    "    depth_s: profundidad de la velocidad u\n",
    "    depth_vector: profundidades consideradas\n",
    "    ------------------------------------------------\n",
    "    Salida:\n",
    "    ft: función de riemman para la profunidad considerada\n",
    "    \n",
    "    \"\"\"\n",
    "    g = 9.81\n",
    "    u_mean = np.nanmean(u[:,np.where(depth_vector == depth_s)[0][0]:], axis= 1)\n",
    "    ft = u_mean +wl*(np.sqrt(g/depth_s))\n",
    "    return ft\n",
    "\n",
    "def dic_rieman(name1):\n",
    "    dic = {}\n",
    "    for i, j in zip (paths_vel, paths_wl):\n",
    "        if (name1 in i)==True:\n",
    "            print(i,j)\n",
    "            vel = load_mat_files(i)['Val']\n",
    "            ws = load_mat_files(j)['Val']\n",
    "            depth_vector = -load_mat_files(i)['Z'][0]\n",
    "            for m, h in enumerate(depth_vector):\n",
    "                ft = riemman(u=vel, wl=ws,depth_s=h, depth_vector=depth_vector)\n",
    "                if ('A_' in name1) == True:\n",
    "                    dic.update({m:ft})\n",
    "                elif ('B_' in name1) == True:\n",
    "                    dic.update({10+m:ft})\n",
    "        else:\n",
    "            pass\n",
    "    return dic"
   ]
  },
  {
   "cell_type": "code",
   "execution_count": 16,
   "metadata": {},
   "outputs": [],
   "source": [
    "def dic_rieman(name1):\n",
    "    dic = {}\n",
    "    for i, j in zip (paths_vel, paths_wl):\n",
    "        if (name1 in i)==True:\n",
    "            print(i,j)\n",
    "            vel = load_mat_files(i)['Val']\n",
    "            ws = load_mat_files(j)['Val']\n",
    "            depth_vector = -load_mat_files(i)['Z'][0]\n",
    "            for m, h in enumerate(depth_vector):\n",
    "                ft = riemman(u=vel, wl=ws,depth_s=h, depth_vector=depth_vector)\n",
    "                if ('A_' in name1) == True:\n",
    "                    dic.update({m:ft})\n",
    "                elif ('B_' in name1) == True:\n",
    "                    dic.update({10+m:ft})\n",
    "        else:\n",
    "            pass\n",
    "    return dic"
   ]
  },
  {
   "cell_type": "code",
   "execution_count": 17,
   "metadata": {},
   "outputs": [
    {
     "name": "stdout",
     "output_type": "stream",
     "text": [
      "C:\\Users\\paula\\Desktop\\Files_test14\\velocity_A_East.mat C:\\Users\\paula\\Desktop\\Files_test14\\water_level_A_East.mat\n",
      "C:\\Users\\paula\\Desktop\\Files_test14\\velocity_B_East.mat C:\\Users\\paula\\Desktop\\Files_test14\\water_level_B_East.mat\n"
     ]
    }
   ],
   "source": [
    "#-------------Frontera Este--------------------------------------\n",
    "dic_east = dic_rieman('A_East')\n",
    "dic_east.update(dic_rieman('B_East'))\n",
    "df_east = pd.DataFrame(dic_east)\n",
    "df_east.insert(loc= 0, column = 'minutes', value = minutes)\n",
    "\n",
    "path =  r\"G:\\My drive\\TESIS_MAESTRIA_PAULAE\\MODELO_NUMERICO\\CODIGOS\"\n",
    "name_file = 'east_boundary.bct'\n",
    "np.savetxt(path+'/'+name_file, df_east.values, delimiter=' ', fmt = \"%+15.7e\")"
   ]
  },
  {
   "cell_type": "code",
   "execution_count": 18,
   "metadata": {},
   "outputs": [
    {
     "data": {
      "text/plain": [
       "304"
      ]
     },
     "execution_count": 18,
     "metadata": {},
     "output_type": "execute_result"
    }
   ],
   "source": [
    "len(df_east)"
   ]
  },
  {
   "cell_type": "code",
   "execution_count": 19,
   "metadata": {},
   "outputs": [
    {
     "name": "stdout",
     "output_type": "stream",
     "text": [
      "C:\\Users\\paula\\Desktop\\Files_test14\\velocity_A_West.mat C:\\Users\\paula\\Desktop\\Files_test14\\water_level_A_West.mat\n",
      "C:\\Users\\paula\\Desktop\\Files_test14\\velocity_B_West.mat C:\\Users\\paula\\Desktop\\Files_test14\\water_level_B_West.mat\n"
     ]
    }
   ],
   "source": [
    "#-------------Frontera Oeste--------------------------------------\n",
    "dic_west = dic_rieman('A_West')\n",
    "dic_west.update(dic_rieman('B_West'))\n",
    "df_west = pd.DataFrame(dic_west)\n",
    "df_west.insert(loc= 0, column = 'minutes', value = minutes)\n",
    "\n",
    "path =  r\"G:\\My drive\\TESIS_MAESTRIA_PAULAE\\MODELO_NUMERICO\\CODIGOS\"\n",
    "name_file = 'west_boundary.bct'\n",
    "np.savetxt(path+'/'+name_file, df_west.values, delimiter=' ', fmt = \"%+15.7e\")"
   ]
  },
  {
   "cell_type": "code",
   "execution_count": 20,
   "metadata": {},
   "outputs": [
    {
     "name": "stdout",
     "output_type": "stream",
     "text": [
      "C:\\Users\\paula\\Desktop\\Files_test14\\velocity_A_North.mat C:\\Users\\paula\\Desktop\\Files_test14\\water_level_A_North.mat\n",
      "C:\\Users\\paula\\Desktop\\Files_test14\\velocity_B_North.mat C:\\Users\\paula\\Desktop\\Files_test14\\water_level_B_North.mat\n"
     ]
    }
   ],
   "source": [
    "#-------------Frontera Norte--------------------------------------\n",
    "dic_north = dic_rieman('A_North')\n",
    "dic_north.update(dic_rieman('B_North'))\n",
    "df_north = pd.DataFrame(dic_north)\n",
    "df_north.insert(loc= 0, column = 'minutes', value = minutes)\n",
    "\n",
    "path =  r\"G:\\My drive\\TESIS_MAESTRIA_PAULAE\\MODELO_NUMERICO\\CODIGOS\"\n",
    "name_file = 'north_boundary.bct'\n",
    "np.savetxt(path+'/'+name_file, df_north.values, delimiter=' ', fmt = \"%+15.7e\")"
   ]
  },
  {
   "cell_type": "code",
   "execution_count": 21,
   "metadata": {},
   "outputs": [
    {
     "name": "stdout",
     "output_type": "stream",
     "text": [
      "C:\\Users\\paula\\Desktop\\Files_test14\\velocity_A_South.mat C:\\Users\\paula\\Desktop\\Files_test14\\water_level_A_South.mat\n",
      "C:\\Users\\paula\\Desktop\\Files_test14\\velocity_B_South.mat C:\\Users\\paula\\Desktop\\Files_test14\\water_level_B_South.mat\n"
     ]
    }
   ],
   "source": [
    "#-------------Frontera Sur--------------------------------------\n",
    "dic_south = dic_rieman('A_South')\n",
    "dic_south.update(dic_rieman('B_South'))\n",
    "df_south = pd.DataFrame(dic_south)\n",
    "df_south.insert(loc= 0, column = 'minutes', value = minutes)\n",
    "\n",
    "path =  r\"G:\\My drive\\TESIS_MAESTRIA_PAULAE\\MODELO_NUMERICO\\CODIGOS\"\n",
    "name_file = 'south_boundary.bct'\n",
    "np.savetxt(path+'/'+name_file, df_south.values, delimiter=' ', fmt = \"%+15.7e\")"
   ]
  },
  {
   "attachments": {},
   "cell_type": "markdown",
   "metadata": {},
   "source": [
    "# Constitutivas"
   ]
  },
  {
   "cell_type": "code",
   "execution_count": 22,
   "metadata": {},
   "outputs": [],
   "source": [
    "path =  r\"G:\\My drive\\TESIS_MAESTRIA_PAULAE\\MODELO_NUMERICO\\CODIGOS\"\n",
    "data_prop = Dataset(path+'\\Hycom_oct21_nov15_2021_6_temp_sal_2.nc','r')\n",
    "#-------Metadatos-------------------------------------------\n",
    "lat = np.array(data_prop.variables['latitude'][:])\n",
    "lon = np.array(data_prop.variables['longitude'][:])\n",
    "nctime = np.array(data_prop.variables['time'][:])\n",
    "t_unit = data_prop.variables['time'].units\n",
    "t_cal = data_prop.variables['time'].calendar\n",
    "time = num2date(nctime,units=t_unit,calendar=t_cal)#Date time\n",
    "time_str = np.array([time[i].strftime(\"%Y-%m-%d %H:%M:%S\") for i in range (len(time))])\n",
    "time = np.array([datetime.datetime.strptime(time_str[i], \"%Y-%m-%d %H:%M:%S\") for i in range (len(time))])\n",
    "\n",
    "#------ Cambiar referencia de tiempo a utm-----------------------------------\n",
    "# Cambiar la zona horaria utc 0 a utc -5\n",
    "utc = pytz.utc\n",
    "col_zone = timezone('America/Bogota')\n",
    "time2=np.array([datetime.datetime(i.year,i.month,i.day,i.hour,i.minute,tzinfo=utc) for i in time])\n",
    "loc_co =np.array([i.astimezone(col_zone) for i in time2])\n",
    "time = np.array([datetime.datetime(i.year,i.month,i.day,i.hour,i.minute) for i in loc_co])\n",
    "\n",
    "#---------------------Variables------------------------------------------------\n",
    "salt = np.array(data_prop.variables['salinity'][:])\n",
    "salt[salt==-30000] = np.nan\n",
    "temp = np.array(data_prop.variables['water_temp'][:])\n",
    "temp[temp==-30000] = np.nan\n",
    "depth =  np.array(data_prop.variables['depth'][:])"
   ]
  },
  {
   "cell_type": "code",
   "execution_count": 23,
   "metadata": {},
   "outputs": [],
   "source": [
    "# Profunidades de acuerdo con los espersores del modelo\n",
    "depth_model = np.cumsum(thickness)\n",
    "\n",
    "# Profundidades de los datos de reanálisis que hacen más match con los del modelo \n",
    "depth_layer = [0, 12, 40, 70, 125, 200, 300, 400, 600, 800]"
   ]
  },
  {
   "cell_type": "code",
   "execution_count": 24,
   "metadata": {},
   "outputs": [],
   "source": [
    "def constituten(c, depth_s, depth_bd, lat_s, lat_bd, lon_s, lon_bd):\n",
    "    \"\"\"\n",
    "    ------------input------------------------\n",
    "    c: arreglo de la propiedad constitutiva (temp / sal) \n",
    "    depth_s: serie de profundidades \n",
    "    lat_bd: Cordenanda latitud \n",
    "    lon_bd: Coordenada longitud\n",
    "    lat_s: serie de latitud \n",
    "    lon_s: Serie de longitud\n",
    "    \n",
    "    ------------output----------------------------\n",
    "    constituen: serie de la propiedad constitutiva a la profundida deseada\n",
    "    \n",
    "    \"\"\"\n",
    "    c= c[:,np.where(depth_s==depth_bd)[0][0], np.where(lat_s==lat_bd)[0][0],np.where(lon_s == lon_bd)[0][0]]\n",
    "    return c"
   ]
  },
  {
   "cell_type": "code",
   "execution_count": 25,
   "metadata": {},
   "outputs": [],
   "source": [
    "# Time split\n",
    "date_ini = datetime.datetime(2021,11,2,1) # Fechas inicial de modelación\n",
    "date_fin = datetime.datetime(2021,11,14,19,0) # Fechas final de modelación\n",
    "ind_ini_fin = np.where((time==date_ini)|(time==date_fin))[0]\n",
    "time_d3d = time[ind_ini_fin[0]:ind_ini_fin[1]]\n",
    "minutes = np.array([((time_d3d[i] - time_d3d[0]).days*1440)+((time_d3d[i] - time_d3d[0]).seconds/60) for i in range (0,len(time_d3d))])\n",
    "\n",
    "# Time split of variables\n",
    "salt_split = salt[ind_ini_fin[0]:ind_ini_fin[1],:,:]\n",
    "temp_split = temp[ind_ini_fin[0]:ind_ini_fin[1],:,:]"
   ]
  },
  {
   "cell_type": "code",
   "execution_count": 26,
   "metadata": {},
   "outputs": [
    {
     "data": {
      "text/plain": [
       "array([datetime.datetime(2021, 11, 2, 1, 0),\n",
       "       datetime.datetime(2021, 11, 2, 4, 0),\n",
       "       datetime.datetime(2021, 11, 2, 7, 0),\n",
       "       datetime.datetime(2021, 11, 2, 10, 0),\n",
       "       datetime.datetime(2021, 11, 2, 13, 0),\n",
       "       datetime.datetime(2021, 11, 2, 16, 0),\n",
       "       datetime.datetime(2021, 11, 2, 19, 0),\n",
       "       datetime.datetime(2021, 11, 2, 22, 0),\n",
       "       datetime.datetime(2021, 11, 3, 1, 0),\n",
       "       datetime.datetime(2021, 11, 3, 4, 0),\n",
       "       datetime.datetime(2021, 11, 3, 7, 0),\n",
       "       datetime.datetime(2021, 11, 3, 10, 0),\n",
       "       datetime.datetime(2021, 11, 3, 13, 0),\n",
       "       datetime.datetime(2021, 11, 3, 16, 0),\n",
       "       datetime.datetime(2021, 11, 3, 19, 0),\n",
       "       datetime.datetime(2021, 11, 3, 22, 0),\n",
       "       datetime.datetime(2021, 11, 4, 1, 0),\n",
       "       datetime.datetime(2021, 11, 4, 4, 0),\n",
       "       datetime.datetime(2021, 11, 4, 7, 0),\n",
       "       datetime.datetime(2021, 11, 4, 10, 0),\n",
       "       datetime.datetime(2021, 11, 4, 13, 0),\n",
       "       datetime.datetime(2021, 11, 4, 16, 0),\n",
       "       datetime.datetime(2021, 11, 4, 19, 0),\n",
       "       datetime.datetime(2021, 11, 4, 22, 0),\n",
       "       datetime.datetime(2021, 11, 5, 1, 0),\n",
       "       datetime.datetime(2021, 11, 5, 4, 0),\n",
       "       datetime.datetime(2021, 11, 5, 7, 0),\n",
       "       datetime.datetime(2021, 11, 5, 10, 0),\n",
       "       datetime.datetime(2021, 11, 5, 13, 0),\n",
       "       datetime.datetime(2021, 11, 5, 16, 0),\n",
       "       datetime.datetime(2021, 11, 5, 19, 0),\n",
       "       datetime.datetime(2021, 11, 5, 22, 0),\n",
       "       datetime.datetime(2021, 11, 6, 1, 0),\n",
       "       datetime.datetime(2021, 11, 6, 4, 0),\n",
       "       datetime.datetime(2021, 11, 6, 7, 0),\n",
       "       datetime.datetime(2021, 11, 6, 10, 0),\n",
       "       datetime.datetime(2021, 11, 6, 13, 0),\n",
       "       datetime.datetime(2021, 11, 6, 16, 0),\n",
       "       datetime.datetime(2021, 11, 6, 19, 0),\n",
       "       datetime.datetime(2021, 11, 6, 22, 0),\n",
       "       datetime.datetime(2021, 11, 7, 1, 0),\n",
       "       datetime.datetime(2021, 11, 7, 4, 0),\n",
       "       datetime.datetime(2021, 11, 7, 7, 0),\n",
       "       datetime.datetime(2021, 11, 7, 10, 0),\n",
       "       datetime.datetime(2021, 11, 7, 13, 0),\n",
       "       datetime.datetime(2021, 11, 7, 16, 0),\n",
       "       datetime.datetime(2021, 11, 7, 19, 0),\n",
       "       datetime.datetime(2021, 11, 7, 22, 0),\n",
       "       datetime.datetime(2021, 11, 8, 1, 0),\n",
       "       datetime.datetime(2021, 11, 8, 4, 0),\n",
       "       datetime.datetime(2021, 11, 8, 7, 0),\n",
       "       datetime.datetime(2021, 11, 8, 10, 0),\n",
       "       datetime.datetime(2021, 11, 8, 13, 0),\n",
       "       datetime.datetime(2021, 11, 8, 16, 0),\n",
       "       datetime.datetime(2021, 11, 8, 19, 0),\n",
       "       datetime.datetime(2021, 11, 8, 22, 0),\n",
       "       datetime.datetime(2021, 11, 9, 1, 0),\n",
       "       datetime.datetime(2021, 11, 9, 4, 0),\n",
       "       datetime.datetime(2021, 11, 9, 7, 0),\n",
       "       datetime.datetime(2021, 11, 9, 10, 0),\n",
       "       datetime.datetime(2021, 11, 9, 13, 0),\n",
       "       datetime.datetime(2021, 11, 9, 16, 0),\n",
       "       datetime.datetime(2021, 11, 9, 19, 0),\n",
       "       datetime.datetime(2021, 11, 9, 22, 0),\n",
       "       datetime.datetime(2021, 11, 10, 1, 0),\n",
       "       datetime.datetime(2021, 11, 10, 4, 0),\n",
       "       datetime.datetime(2021, 11, 10, 7, 0),\n",
       "       datetime.datetime(2021, 11, 10, 10, 0),\n",
       "       datetime.datetime(2021, 11, 10, 13, 0),\n",
       "       datetime.datetime(2021, 11, 10, 16, 0),\n",
       "       datetime.datetime(2021, 11, 10, 19, 0),\n",
       "       datetime.datetime(2021, 11, 10, 22, 0),\n",
       "       datetime.datetime(2021, 11, 11, 1, 0),\n",
       "       datetime.datetime(2021, 11, 11, 4, 0),\n",
       "       datetime.datetime(2021, 11, 11, 7, 0),\n",
       "       datetime.datetime(2021, 11, 11, 10, 0),\n",
       "       datetime.datetime(2021, 11, 11, 13, 0),\n",
       "       datetime.datetime(2021, 11, 11, 16, 0),\n",
       "       datetime.datetime(2021, 11, 11, 19, 0),\n",
       "       datetime.datetime(2021, 11, 11, 22, 0),\n",
       "       datetime.datetime(2021, 11, 12, 1, 0),\n",
       "       datetime.datetime(2021, 11, 12, 4, 0),\n",
       "       datetime.datetime(2021, 11, 12, 7, 0),\n",
       "       datetime.datetime(2021, 11, 12, 10, 0),\n",
       "       datetime.datetime(2021, 11, 12, 13, 0),\n",
       "       datetime.datetime(2021, 11, 12, 16, 0),\n",
       "       datetime.datetime(2021, 11, 12, 19, 0),\n",
       "       datetime.datetime(2021, 11, 12, 22, 0),\n",
       "       datetime.datetime(2021, 11, 13, 1, 0),\n",
       "       datetime.datetime(2021, 11, 13, 4, 0),\n",
       "       datetime.datetime(2021, 11, 13, 7, 0),\n",
       "       datetime.datetime(2021, 11, 13, 10, 0),\n",
       "       datetime.datetime(2021, 11, 13, 13, 0),\n",
       "       datetime.datetime(2021, 11, 13, 16, 0),\n",
       "       datetime.datetime(2021, 11, 13, 19, 0),\n",
       "       datetime.datetime(2021, 11, 13, 22, 0),\n",
       "       datetime.datetime(2021, 11, 14, 1, 0),\n",
       "       datetime.datetime(2021, 11, 14, 4, 0),\n",
       "       datetime.datetime(2021, 11, 14, 7, 0),\n",
       "       datetime.datetime(2021, 11, 14, 10, 0),\n",
       "       datetime.datetime(2021, 11, 14, 13, 0),\n",
       "       datetime.datetime(2021, 11, 14, 16, 0)], dtype=object)"
      ]
     },
     "execution_count": 26,
     "metadata": {},
     "output_type": "execute_result"
    }
   ],
   "source": [
    "time_d3d"
   ]
  },
  {
   "cell_type": "code",
   "execution_count": 27,
   "metadata": {},
   "outputs": [],
   "source": [
    "# Este\n",
    "#------------------A---------------------------\n",
    "lat_bd = 12.479999542236328\n",
    "lon_bd = 278.4000244140625\n",
    "dic_sal = {}\n",
    "for j, h in enumerate (depth_layer):\n",
    "    c = constituten(salt_split, depth, h, lat, lat_bd, lon,lon_bd)\n",
    "    dic_sal.update({j:c})\n",
    "\n",
    "\n",
    "#-----------------B-------------------------------\n",
    "lat_bd = 12.600000381469727\n",
    "lon_bd = 278.4000244140625\n",
    "for j, h in enumerate (depth_layer):\n",
    "    c = constituten(salt_split, depth, h, lat, lat_bd, lon,lon_bd)\n",
    "    dic_sal.update({10+j:c})\n",
    "\n",
    "df_sal_este = pd.DataFrame(dic_sal)\n",
    "df_sal_este.insert(loc= 0, column = 'minutes', value = minutes)\n",
    "\n",
    "path =  r\"G:\\My drive\\TESIS_MAESTRIA_PAULAE\\MODELO_NUMERICO\\CODIGOS\"\n",
    "name_file = 'salt_este_boundary.bcc'\n",
    "np.savetxt(path+'/'+name_file, df_sal_este.values, delimiter=' ', fmt = \"%+15.7e\")"
   ]
  },
  {
   "cell_type": "code",
   "execution_count": 28,
   "metadata": {},
   "outputs": [],
   "source": [
    "dic_temp = {}\n",
    "for j, h in enumerate (depth_layer):\n",
    "    c = constituten(temp_split, depth, h, lat, lat_bd, lon,lon_bd)\n",
    "    dic_temp.update({j:c})\n",
    "\n",
    "for j, h in enumerate (depth_layer):\n",
    "    c = constituten(temp_split, depth, h, lat, lat_bd, lon,lon_bd)\n",
    "    dic_temp.update({10+j:c})\n",
    "\n",
    "df_temp_este = pd.DataFrame(dic_temp)\n",
    "df_temp_este.insert(loc= 0, column = 'minutes', value = minutes)\n",
    "\n",
    "name_file = 'temp_este_boundary.bcc'\n",
    "np.savetxt(path+'/'+name_file, df_temp_este.values, delimiter=' ', fmt = \"%+15.7e\")\n"
   ]
  },
  {
   "cell_type": "code",
   "execution_count": 29,
   "metadata": {},
   "outputs": [],
   "source": [
    "# Oeste\n",
    "#------------------A---------------------------\n",
    "lat_bd = 12.479999542236328\n",
    "lon_bd = 278.1600341796875\n",
    "for j, h in enumerate (depth_layer):\n",
    "    c = constituten(salt_split, depth, h, lat, lat_bd, lon,lon_bd)\n",
    "    dic_sal.update({j:c})\n",
    "\n",
    "#-----------------B-------------------------------\n",
    "lat_bd = 12.600000381469727\n",
    "lon_bd = 278.1600341796875\n",
    "for j, h in enumerate (depth_layer):\n",
    "    c = constituten(salt_split, depth, h, lat, lat_bd, lon,lon_bd)\n",
    "    dic_sal.update({10+j:c})\n",
    "\n",
    "df_sal_oeste = pd.DataFrame(dic_sal)\n",
    "df_sal_oeste.insert(loc= 0, column = 'minutes', value = minutes)\n",
    "\n",
    "path =  r\"G:\\My drive\\TESIS_MAESTRIA_PAULAE\\MODELO_NUMERICO\\CODIGOS\"\n",
    "name_file = 'salt_oeste_boundary.bcc'\n",
    "np.savetxt(path+'/'+name_file, df_sal_oeste.values, delimiter=' ', fmt = \"%+15.7e\")"
   ]
  },
  {
   "cell_type": "code",
   "execution_count": 30,
   "metadata": {},
   "outputs": [],
   "source": [
    "dic_temp = {}\n",
    "for j, h in enumerate (depth_layer):\n",
    "    c = constituten(temp_split, depth, h, lat, lat_bd, lon,lon_bd)\n",
    "    dic_temp.update({j:c})\n",
    "\n",
    "for j, h in enumerate (depth_layer):\n",
    "    c = constituten(temp_split, depth, h, lat, lat_bd, lon,lon_bd)\n",
    "    dic_temp.update({10+j:c})\n",
    "\n",
    "df_temp_oeste = pd.DataFrame(dic_temp)\n",
    "df_temp_oeste.insert(loc= 0, column = 'minutes', value = minutes)\n",
    "\n",
    "name_file = 'temp_oeste_boundary.bcc'\n",
    "np.savetxt(path+'/'+name_file, df_temp_oeste.values, delimiter=' ', fmt = \"%+15.7e\")"
   ]
  },
  {
   "cell_type": "code",
   "execution_count": 31,
   "metadata": {},
   "outputs": [],
   "source": [
    "# Sur\n",
    "#-----------------A---------------------------------\n",
    "lat_bd = 12.4399995803833\n",
    "lon_bd = 278.1600341796875\n",
    "for j, h in enumerate (depth_layer):\n",
    "    c = constituten(salt_split, depth, h, lat, lat_bd, lon,lon_bd)\n",
    "    dic_sal.update({j:c})\n",
    "\n",
    "#----------------B------------------------------------\n",
    "lat_bd = 12.4399995803833\n",
    "lon_bd = 278.4000244140625\n",
    "for j, h in enumerate (depth_layer):\n",
    "    c = constituten(salt_split, depth, h, lat, lat_bd, lon,lon_bd)\n",
    "    dic_sal.update({10+j:c})\n",
    "\n",
    "df_sal_sur = pd.DataFrame(dic_sal)\n",
    "df_sal_sur.insert(loc= 0, column = 'minutes', value = minutes)\n",
    "\n",
    "path =  r\"G:\\My drive\\TESIS_MAESTRIA_PAULAE\\MODELO_NUMERICO\\CODIGOS\"\n",
    "name_file = 'salt_sur_boundary.bcc'\n",
    "np.savetxt(path+'/'+name_file, df_sal_sur.values, delimiter=' ', fmt = \"%+15.7e\")"
   ]
  },
  {
   "cell_type": "code",
   "execution_count": 32,
   "metadata": {},
   "outputs": [],
   "source": [
    "dic_temp = {}\n",
    "for j, h in enumerate (depth_layer):\n",
    "    c = constituten(temp_split, depth, h, lat, lat_bd, lon,lon_bd)\n",
    "    dic_temp.update({j:c})\n",
    "\n",
    "for j, h in enumerate (depth_layer):\n",
    "    c = constituten(temp_split, depth, h, lat, lat_bd, lon,lon_bd)\n",
    "    dic_temp.update({10+j:c})\n",
    "\n",
    "df_temp_sur = pd.DataFrame(dic_temp)\n",
    "df_temp_sur.insert(loc= 0, column = 'minutes', value = minutes)\n",
    "\n",
    "name_file = 'temp_sur_boundary.bcc'\n",
    "np.savetxt(path+'/'+name_file, df_temp_sur.values, delimiter=' ', fmt = \"%+15.7e\")"
   ]
  },
  {
   "cell_type": "code",
   "execution_count": 33,
   "metadata": {},
   "outputs": [],
   "source": [
    "# North\n",
    "#---------A------------------\n",
    "lat_bd = 12.640000343322754\n",
    "lon_bd = 278.1600341796875\n",
    "dic_sal = {}\n",
    "for j, h in enumerate (depth_layer):\n",
    "    c = constituten(salt_split, depth, h, lat, lat_bd, lon,lon_bd)\n",
    "    dic_sal.update({j:c})\n",
    "\n",
    "\n",
    "#---------B------------------\n",
    "lat_bd = 12.640000343322754\n",
    "lon_bd = 278.4000244140625\n",
    "for j, h in enumerate (depth_layer):\n",
    "    c = constituten(salt_split, depth, h, lat, lat_bd, lon,lon_bd)\n",
    "    dic_sal.update({10+j:c})\n",
    "\n",
    "df_sal_norte = pd.DataFrame(dic_sal)\n",
    "df_sal_norte.insert(loc= 0, column = 'minutes', value = minutes)\n",
    "\n",
    "path =  r\"G:\\My drive\\TESIS_MAESTRIA_PAULAE\\MODELO_NUMERICO\\CODIGOS\"\n",
    "name_file = 'salt_norte_boundary.bcc'\n",
    "np.savetxt(path+'/'+name_file, df_sal_norte.values, delimiter=' ', fmt = \"%+15.7e\")\n"
   ]
  },
  {
   "cell_type": "code",
   "execution_count": 34,
   "metadata": {},
   "outputs": [],
   "source": [
    "dic_temp = {}\n",
    "for j, h in enumerate (depth_layer):\n",
    "    c = constituten(temp_split, depth, h, lat, lat_bd, lon,lon_bd)\n",
    "    dic_temp.update({j:c})\n",
    "\n",
    "for j, h in enumerate (depth_layer):\n",
    "    c = constituten(temp_split, depth, h, lat, lat_bd, lon,lon_bd)\n",
    "    dic_temp.update({10+j:c})\n",
    "\n",
    "df_temp_norte = pd.DataFrame(dic_temp)\n",
    "df_temp_norte.insert(loc= 0, column = 'minutes', value = minutes)\n",
    "\n",
    "name_file = 'temp_norte_boundary.bcc'\n",
    "np.savetxt(path+'/'+name_file, df_temp_norte.values, delimiter=' ', fmt = \"%+15.7e\")"
   ]
  },
  {
   "cell_type": "code",
   "execution_count": 35,
   "metadata": {},
   "outputs": [
    {
     "data": {
      "text/plain": [
       "102"
      ]
     },
     "execution_count": 35,
     "metadata": {},
     "output_type": "execute_result"
    }
   ],
   "source": [
    "len(df_temp_sur)"
   ]
  },
  {
   "attachments": {},
   "cell_type": "markdown",
   "metadata": {},
   "source": [
    "# Puntos de observación"
   ]
  },
  {
   "attachments": {},
   "cell_type": "markdown",
   "metadata": {},
   "source": [
    "## Cove"
   ]
  },
  {
   "cell_type": "code",
   "execution_count": 21,
   "metadata": {},
   "outputs": [
    {
     "name": "stdout",
     "output_type": "stream",
     "text": [
      "Indice: 78 , Valor: 419794.0299 , Valor real: 419777.9967201181\n",
      "Indice: 133 , Valor: 1388134.8555 , Valor real: 1388119.6799451713\n",
      "78 133\n"
     ]
    }
   ],
   "source": [
    "lat_cove = 12.555738\n",
    "lon_cove = -81.738463\n",
    "x_cove, y_cove = proj_ZONE17(lon_cove,lat_cove)\n",
    "ind_xcove = min_ind(value=x_cove, vector=x_new, delta=100)\n",
    "ind_ycove = min_ind(value=y_cove, vector=y_new, delta=100)\n",
    "print(ind_xcove,ind_ycove)\n",
    "list_cove = ['Cove', ind_xcove, ind_ycove]"
   ]
  },
  {
   "attachments": {},
   "cell_type": "markdown",
   "metadata": {},
   "source": [
    "## Barrera"
   ]
  },
  {
   "cell_type": "code",
   "execution_count": 22,
   "metadata": {},
   "outputs": [
    {
     "name": "stdout",
     "output_type": "stream",
     "text": [
      "Indice: 143 , Valor: 426294.0299 , Valor real: 426277.01849166275\n",
      "Indice: 186 , Valor: 1393434.8555 , Valor real: 1393382.35178034\n"
     ]
    }
   ],
   "source": [
    "lat_barrera =  12.603483\n",
    "lon_barrera = -81.678766\n",
    "x_barrera, y_barrera = proj_ZONE17(lon_barrera,lat_barrera)\n",
    "ind_xbarrera = min_ind(value=x_barrera, vector=x_new, delta=100)\n",
    "ind_ybarrera = min_ind(value=y_barrera, vector=y_new, delta=100)\n",
    "list_barrera = ['Barrera', ind_xbarrera, ind_ybarrera]"
   ]
  },
  {
   "attachments": {},
   "cell_type": "markdown",
   "metadata": {},
   "source": [
    "## Puuntos de salinidad y temperatura"
   ]
  },
  {
   "cell_type": "code",
   "execution_count": 23,
   "metadata": {},
   "outputs": [
    {
     "name": "stdout",
     "output_type": "stream",
     "text": [
      "Indice: 140 , Valor: 425994.0299 , Valor real: 425936.0414280868\n",
      "Indice: 197 , Valor: 1394534.8555 , Valor real: 1394439.5104323549\n",
      "Indice: 139 , Valor: 425894.0299 , Valor real: 425808.6523279231\n",
      "Indice: 196 , Valor: 1394434.8555 , Valor real: 1394420.5879379555\n",
      "Indice: 152 , Valor: 427194.0299 , Valor real: 427170.9467856752\n",
      "Indice: 181 , Valor: 1392934.8555 , Valor real: 1392858.2999182355\n",
      "Indice: 156 , Valor: 427594.0299 , Valor real: 427498.1868239869\n",
      "Indice: 160 , Valor: 1390834.8555 , Valor real: 1390744.8922520124\n",
      "Indice: 156 , Valor: 427594.0299 , Valor real: 427552.1899286429\n",
      "Indice: 139 , Valor: 1388734.8555 , Valor real: 1388722.613872698\n",
      "Indice: 153 , Valor: 427294.0299 , Valor real: 427263.4088631454\n",
      "Indice: 119 , Valor: 1386734.8555 , Valor real: 1386646.1549718452\n",
      "Indice: 139 , Valor: 425894.0299 , Valor real: 425807.8723264736\n",
      "Indice: 106 , Valor: 1385434.8555 , Valor real: 1385424.8331458603\n",
      "Indice: 120 , Valor: 423994.0299 , Valor real: 423902.1102226691\n",
      "Indice: 99 , Valor: 1384734.8555 , Valor real: 1384727.5969310782\n",
      "Indice: 112 , Valor: 423194.0299 , Valor real: 423120.0113386437\n",
      "Indice: 81 , Valor: 1382934.8555 , Valor real: 1382901.0752322825\n",
      "Indice: 105 , Valor: 422494.0299 , Valor real: 422420.6588239315\n",
      "Indice: 66 , Valor: 1381434.8555 , Valor real: 1381426.6678893487\n",
      "Indice: 97 , Valor: 421694.0299 , Valor real: 421642.1092987677\n",
      "Indice: 46 , Valor: 1379434.8555 , Valor real: 1379414.6765310704\n",
      "Indice: 81 , Valor: 420094.0299 , Valor real: 420050.1536689855\n",
      "Indice: 50 , Valor: 1379834.8555 , Valor real: 1379795.434954106\n",
      "Indice: 81 , Valor: 420094.0299 , Valor real: 420021.4742516791\n",
      "Indice: 71 , Valor: 1381934.8555 , Valor real: 1381840.654718132\n",
      "Indice: 83 , Valor: 420294.0299 , Valor real: 420267.7306879761\n",
      "Indice: 92 , Valor: 1384034.8555 , Valor real: 1383976.317678556\n",
      "Indice: 79 , Valor: 419894.0299 , Valor real: 419868.4765640148\n",
      "Indice: 111 , Valor: 1385934.8555 , Valor real: 1385895.162945996\n",
      "Indice: 78 , Valor: 419794.0299 , Valor real: 419743.5446392965\n",
      "Indice: 133 , Valor: 1388134.8555 , Valor real: 1388068.472980501\n",
      "Indice: 92 , Valor: 421194.0299 , Valor real: 421102.1056551556\n",
      "Indice: 152 , Valor: 1390034.8555 , Valor real: 1390032.2530145792\n",
      "Indice: 103 , Valor: 422294.0299 , Valor real: 422213.6954695056\n",
      "Indice: 175 , Valor: 1392334.8555 , Valor real: 1392277.4534665183\n",
      "Indice: 116 , Valor: 423594.0299 , Valor real: 423574.2693523324\n",
      "Indice: 193 , Valor: 1394134.8555 , Valor real: 1394060.601279609\n",
      "Indice: 95 , Valor: 421494.0299 , Valor real: 421411.7721324589\n",
      "Indice: 153 , Valor: 1390134.8555 , Valor real: 1390047.6017711428\n",
      "Indice: 93 , Valor: 421294.0299 , Valor real: 421240.4343971293\n",
      "Indice: 152 , Valor: 1390034.8555 , Valor real: 1389995.3542703968\n",
      "Indice: 91 , Valor: 421094.0299 , Valor real: 421027.5985129821\n",
      "Indice: 152 , Valor: 1390034.8555 , Valor real: 1389974.6746080914\n",
      "Indice: 91 , Valor: 421094.0299 , Valor real: 421016.9448695915\n",
      "Indice: 152 , Valor: 1390034.8555 , Valor real: 1389948.316877812\n",
      "Indice: 89 , Valor: 420894.0299 , Valor real: 420806.1011471623\n",
      "Indice: 152 , Valor: 1390034.8555 , Valor real: 1389937.2105692746\n",
      "Indice: 86 , Valor: 420594.0299 , Valor real: 420546.7945928754\n",
      "Indice: 151 , Valor: 1389934.8555 , Valor real: 1389925.6100642164\n",
      "Indice: 84 , Valor: 420394.0299 , Valor real: 420327.48935794993\n",
      "Indice: 151 , Valor: 1389934.8555 , Valor real: 1389895.575349307\n",
      "Indice: 95 , Valor: 421494.0299 , Valor real: 421437.5808325666\n",
      "Indice: 157 , Valor: 1390534.8555 , Valor real: 1390509.1841789335\n",
      "Indice: 92 , Valor: 421194.0299 , Valor real: 421109.8583401503\n",
      "Indice: 156 , Valor: 1390434.8555 , Valor real: 1390416.670189178\n",
      "Indice: 89 , Valor: 420894.0299 , Valor real: 420854.3107839912\n",
      "Indice: 156 , Valor: 1390434.8555 , Valor real: 1390356.451734085\n",
      "Indice: 90 , Valor: 420994.0299 , Valor real: 420978.8502713446\n",
      "Indice: 154 , Valor: 1390234.8555 , Valor real: 1390157.683622705\n",
      "Indice: 93 , Valor: 421294.0299 , Valor real: 421227.1957416177\n",
      "Indice: 154 , Valor: 1390234.8555 , Valor real: 1390225.3438127548\n",
      "Indice: 95 , Valor: 421494.0299 , Valor real: 421410.7132305912\n",
      "Indice: 155 , Valor: 1390334.8555 , Valor real: 1390255.1518259968\n",
      "Indice: 95 , Valor: 421494.0299 , Valor real: 421425.1727960256\n",
      "Indice: 151 , Valor: 1389934.8555 , Valor real: 1389844.3419570092\n",
      "Indice: 93 , Valor: 421294.0299 , Valor real: 421275.1461267254\n",
      "Indice: 150 , Valor: 1389834.8555 , Valor real: 1389819.1195027293\n",
      "Indice: 91 , Valor: 421094.0299 , Valor real: 421084.2424863989\n",
      "Indice: 150 , Valor: 1389834.8555 , Valor real: 1389759.229550204\n",
      "Indice: 90 , Valor: 420994.0299 , Valor real: 420899.2162706271\n",
      "Indice: 150 , Valor: 1389834.8555 , Valor real: 1389742.9750833\n",
      "Indice: 89 , Valor: 420894.0299 , Valor real: 420840.3959288704\n",
      "Indice: 148 , Valor: 1389634.8555 , Valor real: 1389552.4004641778\n",
      "Indice: 91 , Valor: 421094.0299 , Valor real: 421023.7322918939\n",
      "Indice: 148 , Valor: 1389634.8555 , Valor real: 1389558.1420295958\n",
      "Indice: 93 , Valor: 421294.0299 , Valor real: 421236.0986157554\n",
      "Indice: 148 , Valor: 1389634.8555 , Valor real: 1389632.0397806042\n",
      "Indice: 94 , Valor: 421394.0299 , Valor real: 421354.94609711727\n",
      "Indice: 148 , Valor: 1389634.8555 , Valor real: 1389632.730142885\n",
      "Indice: 91 , Valor: 421094.0299 , Valor real: 421033.10314323264\n",
      "Indice: 151 , Valor: 1389934.8555 , Valor real: 1389875.2375475557\n",
      "Indice: 92 , Valor: 421194.0299 , Valor real: 421163.7846030563\n",
      "Indice: 152 , Valor: 1390034.8555 , Valor real: 1389987.97894267\n",
      "Indice: 90 , Valor: 420994.0299 , Valor real: 420990.7835713421\n",
      "Indice: 153 , Valor: 1390134.8555 , Valor real: 1390057.476738192\n",
      "Indice: 89 , Valor: 420894.0299 , Valor real: 420888.5270246004\n",
      "Indice: 151 , Valor: 1389934.8555 , Valor real: 1389927.62632901\n",
      "Indice: 92 , Valor: 421194.0299 , Valor real: 421153.5838028679\n",
      "Indice: 152 , Valor: 1390034.8555 , Valor real: 1389964.274118262\n",
      "Indice: 92 , Valor: 421194.0299 , Valor real: 421190.81907773984\n",
      "Indice: 153 , Valor: 1390134.8555 , Valor real: 1390053.4520394206\n",
      "Indice: 127 , Valor: 424694.0299 , Valor real: 424632.7325085342\n",
      "Indice: 184 , Valor: 1393234.8555 , Valor real: 1393208.2222108252\n",
      "Indice: 128 , Valor: 424794.0299 , Valor real: 424761.1679102612\n",
      "Indice: 183 , Valor: 1393134.8555 , Valor real: 1393102.511990239\n",
      "Indice: 129 , Valor: 424894.0299 , Valor real: 424806.8503926422\n",
      "Indice: 183 , Valor: 1393134.8555 , Valor real: 1393060.1347045023\n",
      "Indice: 130 , Valor: 424994.0299 , Valor real: 424924.65369947057\n",
      "Indice: 182 , Valor: 1393034.8555 , Valor real: 1392983.5276977224\n",
      "Indice: 129 , Valor: 424894.0299 , Valor real: 424892.6564463927\n",
      "Indice: 184 , Valor: 1393234.8555 , Valor real: 1393198.9215293662\n",
      "Indice: 129 , Valor: 424894.0299 , Valor real: 424810.01658089645\n",
      "Indice: 183 , Valor: 1393134.8555 , Valor real: 1393062.1612331043\n",
      "Indice: 128 , Valor: 424794.0299 , Valor real: 424772.306091086\n",
      "Indice: 181 , Valor: 1392934.8555 , Valor real: 1392923.0376346305\n",
      "Indice: 129 , Valor: 424894.0299 , Valor real: 424803.63528999744\n",
      "Indice: 180 , Valor: 1392834.8555 , Valor real: 1392751.0855747906\n",
      "Indice: 129 , Valor: 424894.0299 , Valor real: 424867.9299663775\n",
      "Indice: 179 , Valor: 1392734.8555 , Valor real: 1392644.4834479182\n",
      "Indice: 131 , Valor: 425094.0299 , Valor real: 425032.82226587646\n",
      "Indice: 179 , Valor: 1392734.8555 , Valor real: 1392642.0812330423\n",
      "Indice: 133 , Valor: 425294.0299 , Valor real: 425221.7128455057\n",
      "Indice: 179 , Valor: 1392734.8555 , Valor real: 1392699.1481474878\n"
     ]
    }
   ],
   "source": [
    "df_perfiles = pd.read_csv('Coordenas_Perfiles_2.csv')\n",
    "df_perfiles.drop('Unnamed: 0',axis=1, inplace=True)\n",
    "df_perfiles.head(4)\n",
    "\n",
    "in_ts_x = np.zeros(len(df_perfiles['x']))\n",
    "in_ts_y = np.zeros(len(df_perfiles['y']))\n",
    "\n",
    "k = 0\n",
    "for i, j in zip (df_perfiles['x'], df_perfiles['y']):\n",
    "    in_ts_x[k] = min_ind(value=i, vector=x_new, delta =100)\n",
    "    in_ts_y[k] = min_ind(value=j, vector=y_new, delta =100)\n",
    "    k = k+1\n",
    "\n",
    "ind_name = list('PTS_'+str(i+1) for i in range(len(in_ts_x))) \n",
    "df_pts = pd.DataFrame({'ID':ind_name, 'Ind_X':in_ts_x, 'Ind_Y':in_ts_y, 'lon':df_perfiles['lon'],'lat':df_perfiles['lat']})\n",
    "df_pts.drop_duplicates(subset=['Ind_X', 'Ind_Y'], inplace = True)\n",
    "df_pts.reset_index(drop=True, inplace=True)"
   ]
  },
  {
   "attachments": {},
   "cell_type": "markdown",
   "metadata": {},
   "source": [
    "## Concatenar puntos"
   ]
  },
  {
   "cell_type": "code",
   "execution_count": 24,
   "metadata": {},
   "outputs": [],
   "source": [
    "df_plus = pd.DataFrame([list_barrera, list_cove], columns=['ID', 'Ind_X', 'Ind_Y'])\n",
    "df_ind = pd.concat([df_plus, df_pts[['ID', 'Ind_X', 'Ind_Y']]], ignore_index=True)\n",
    "df_ind['Ind_X'] = df_ind['Ind_X'].astype('int') \n",
    "df_ind['Ind_Y'] = df_ind['Ind_Y'].astype('int') "
   ]
  },
  {
   "cell_type": "code",
   "execution_count": 25,
   "metadata": {},
   "outputs": [
    {
     "name": "stdout",
     "output_type": "stream",
     "text": [
      "Barrera                143    186\n",
      "Cove                    78    133\n",
      "PTS_1                  140    197\n",
      "PTS_2                  139    196\n",
      "PTS_3                  152    181\n",
      "PTS_4                  156    160\n",
      "PTS_5                  156    139\n",
      "PTS_6                  153    119\n",
      "PTS_7                  139    106\n",
      "PTS_8                  120     99\n",
      "PTS_9                  112     81\n",
      "PTS_10                 105     66\n",
      "PTS_11                  97     46\n",
      "PTS_12                  81     50\n",
      "PTS_13                  81     71\n",
      "PTS_14                  83     92\n",
      "PTS_15                  79    111\n",
      "PTS_16                  78    133\n",
      "PTS_17                  92    152\n",
      "PTS_18                 103    175\n",
      "PTS_19                 116    193\n",
      "PTS_20                  95    153\n",
      "PTS_21                  93    152\n",
      "PTS_22                  91    152\n",
      "PTS_24                  89    152\n",
      "PTS_25                  86    151\n",
      "PTS_26                  84    151\n",
      "PTS_27                  95    157\n",
      "PTS_28                  92    156\n",
      "PTS_29                  89    156\n",
      "PTS_30                  90    154\n",
      "PTS_31                  93    154\n",
      "PTS_32                  95    155\n",
      "PTS_33                  95    151\n",
      "PTS_34                  93    150\n",
      "PTS_35                  91    150\n",
      "PTS_36                  90    150\n",
      "PTS_37                  89    148\n",
      "PTS_38                  91    148\n",
      "PTS_39                  93    148\n",
      "PTS_40                  94    148\n",
      "PTS_41                  91    151\n",
      "PTS_43                  90    153\n",
      "PTS_44                  89    151\n",
      "PTS_46                  92    153\n",
      "PTS_47                 127    184\n",
      "PTS_48                 128    183\n",
      "PTS_49                 129    183\n",
      "PTS_50                 130    182\n",
      "PTS_51                 129    184\n",
      "PTS_53                 128    181\n",
      "PTS_54                 129    180\n",
      "PTS_55                 129    179\n",
      "PTS_56                 131    179\n",
      "PTS_57                 133    179\n"
     ]
    }
   ],
   "source": [
    "# Guardar archivo con puntos de observación\n",
    "path = r\"G:\\My drive\\TESIS_MAESTRIA_PAULAE\\MODELO_NUMERICO\\CODIGOS\"\n",
    "f =open(path+'\\PUNTOS_OBS_SAL_TEMP.obs','w')\n",
    "for i in range (len(df_ind.ID)):\n",
    "    a = f'{df_ind.iloc[i].ID:<17}'\n",
    "    b = f'{df_ind.iloc[i].Ind_X:>8}'\n",
    "    c = f'{df_ind.iloc[i].Ind_Y:>6}'\n",
    "    print(a+' '+b+' '+c)\n",
    "    f.write(a+' '+b+' '+c+'\\n')\n",
    "f.close()"
   ]
  },
  {
   "cell_type": "markdown",
   "metadata": {},
   "source": [
    "# Oleaje "
   ]
  },
  {
   "cell_type": "code",
   "execution_count": 12,
   "metadata": {},
   "outputs": [
    {
     "ename": "NameError",
     "evalue": "name 'x_min' is not defined",
     "output_type": "error",
     "traceback": [
      "\u001b[1;31m---------------------------------------------------------------------------\u001b[0m",
      "\u001b[1;31mNameError\u001b[0m                                 Traceback (most recent call last)",
      "\u001b[1;32mg:\\My Drive\\TESIS_MAESTRIA_PAULAE\\MODELO_NUMERICO\\CODIGOS\\NESTED_TEST.ipynb Cell 53\u001b[0m in \u001b[0;36m<cell line: 1>\u001b[1;34m()\u001b[0m\n\u001b[1;32m----> <a href='vscode-notebook-cell:/g%3A/My%20Drive/TESIS_MAESTRIA_PAULAE/MODELO_NUMERICO/CODIGOS/NESTED_TEST.ipynb#Y103sZmlsZQ%3D%3D?line=0'>1</a>\u001b[0m x_norte_sur \u001b[39m=\u001b[39m [x_min\u001b[39m+\u001b[39m\u001b[39m5800\u001b[39m, x_min \u001b[39m+\u001b[39m \u001b[39m11600\u001b[39m]\n\u001b[0;32m      <a href='vscode-notebook-cell:/g%3A/My%20Drive/TESIS_MAESTRIA_PAULAE/MODELO_NUMERICO/CODIGOS/NESTED_TEST.ipynb#Y103sZmlsZQ%3D%3D?line=1'>2</a>\u001b[0m y_este_oeste \u001b[39m=\u001b[39m [y_min, y_min \u001b[39m+\u001b[39m \u001b[39m6333\u001b[39m, y_min \u001b[39m+\u001b[39m \u001b[39m12667\u001b[39m, y_max]\n\u001b[0;32m      <a href='vscode-notebook-cell:/g%3A/My%20Drive/TESIS_MAESTRIA_PAULAE/MODELO_NUMERICO/CODIGOS/NESTED_TEST.ipynb#Y103sZmlsZQ%3D%3D?line=2'>3</a>\u001b[0m \u001b[39mprint\u001b[39m(x_norte_sur, y_este_oeste)\n",
      "\u001b[1;31mNameError\u001b[0m: name 'x_min' is not defined"
     ]
    }
   ],
   "source": [
    "x_norte_sur = [x_min+5800, x_min + 11600]\n",
    "y_este_oeste = [y_min, y_min + 6333, y_min + 12667, y_max]\n",
    "print(x_norte_sur, y_este_oeste)"
   ]
  },
  {
   "cell_type": "code",
   "execution_count": 36,
   "metadata": {},
   "outputs": [
    {
     "name": "stdout",
     "output_type": "stream",
     "text": [
      "Indice: 79 , Valor: 420558.9787 , Valor real: 420507.375\n",
      "Indice: 108 , Valor: 426358.9787 , Valor real: 426307.375\n",
      "Indice: 44 , Valor: 1377154.4849 , Valor real: 1377008.875\n",
      "Indice: 75 , Valor: 1383354.4849 , Valor real: 1383341.875\n",
      "Indice: 107 , Valor: 1389754.4849 , Valor real: 1389675.875\n",
      "Indice: 139 , Valor: 1396154.4849 , Valor real: 1396008.875\n"
     ]
    }
   ],
   "source": [
    "in_norte_sur = [min_ind(value= j, vector= x, delta =200) for j in x_norte_sur]\n",
    "in_este_oeste = [min_ind(value= j, vector= y, delta =200) for j in y_este_oeste]"
   ]
  },
  {
   "cell_type": "code",
   "execution_count": 37,
   "metadata": {},
   "outputs": [
    {
     "name": "stdout",
     "output_type": "stream",
     "text": [
      "137 50\n",
      "139 44\n"
     ]
    }
   ],
   "source": [
    "print(indx_max, indx_min)\n",
    "print(indy_max, indy_min)"
   ]
  },
  {
   "cell_type": "code",
   "execution_count": 38,
   "metadata": {},
   "outputs": [
    {
     "data": {
      "text/plain": [
       "{'longitude': <class 'netCDF4._netCDF4.Variable'>\n",
       " float32 longitude(longitude)\n",
       "     units: degrees_east\n",
       "     long_name: longitude\n",
       " unlimited dimensions: \n",
       " current shape = (6,)\n",
       " filling on, default _FillValue of 9.969209968386869e+36 used,\n",
       " 'latitude': <class 'netCDF4._netCDF4.Variable'>\n",
       " float32 latitude(latitude)\n",
       "     units: degrees_north\n",
       "     long_name: latitude\n",
       " unlimited dimensions: \n",
       " current shape = (6,)\n",
       " filling on, default _FillValue of 9.969209968386869e+36 used,\n",
       " 'time': <class 'netCDF4._netCDF4.Variable'>\n",
       " int32 time(time)\n",
       "     units: hours since 1900-01-01 00:00:00.0\n",
       "     long_name: time\n",
       "     calendar: gregorian\n",
       " unlimited dimensions: \n",
       " current shape = (1464,)\n",
       " filling on, default _FillValue of -2147483647 used,\n",
       " 'mwd': <class 'netCDF4._netCDF4.Variable'>\n",
       " int16 mwd(time, latitude, longitude)\n",
       "     scale_factor: 0.001146957496767753\n",
       "     add_offset: 46.49030605692666\n",
       "     _FillValue: -32767\n",
       "     missing_value: -32767\n",
       "     units: Degree true\n",
       "     long_name: Mean wave direction\n",
       " unlimited dimensions: \n",
       " current shape = (1464, 6, 6)\n",
       " filling on,\n",
       " 'pp1d': <class 'netCDF4._netCDF4.Variable'>\n",
       " int16 pp1d(time, latitude, longitude)\n",
       "     scale_factor: 0.00010967011610562617\n",
       "     add_offset: 7.482466222070854\n",
       "     _FillValue: -32767\n",
       "     missing_value: -32767\n",
       "     units: s\n",
       "     long_name: Peak wave period\n",
       " unlimited dimensions: \n",
       " current shape = (1464, 6, 6)\n",
       " filling on,\n",
       " 'swh': <class 'netCDF4._netCDF4.Variable'>\n",
       " int16 swh(time, latitude, longitude)\n",
       "     scale_factor: 2.6611536125045847e-05\n",
       "     add_offset: 1.3252472738179666\n",
       "     _FillValue: -32767\n",
       "     missing_value: -32767\n",
       "     units: m\n",
       "     long_name: Significant height of combined wind waves and swell\n",
       " unlimited dimensions: \n",
       " current shape = (1464, 6, 6)\n",
       " filling on}"
      ]
     },
     "execution_count": 38,
     "metadata": {},
     "output_type": "execute_result"
    }
   ],
   "source": [
    "data = Dataset('data_wave_MG.nc','r')\n",
    "data.variables"
   ]
  },
  {
   "cell_type": "code",
   "execution_count": 39,
   "metadata": {},
   "outputs": [
    {
     "name": "stdout",
     "output_type": "stream",
     "text": [
      "CPU times: total: 0 ns\n",
      "Wall time: 33.1 ms\n"
     ]
    }
   ],
   "source": [
    "%%time\n",
    "lat_wave = np.array(data.variables['latitude'][:])\n",
    "lon_wave = np.array(data.variables['longitude'][:])\n",
    "nctime_wave = np.array(data.variables['time'][:])\n",
    "t_unit_wave = data.variables['time'].units\n",
    "t_cal_wave = data.variables['time'].calendar\n",
    "time_wave = num2date(nctime_wave,units=t_unit_wave,calendar=t_cal_wave)#Date time\n",
    "hs = np.array(data.variables['swh'][:])\n",
    "tp = np.array(data.variables['pp1d'][:])\n",
    "direc = np.array(data.variables['mwd'][:])"
   ]
  },
  {
   "cell_type": "code",
   "execution_count": 40,
   "metadata": {},
   "outputs": [
    {
     "data": {
      "text/plain": [
       "array([datetime.datetime(2021, 9, 30, 19, 0),\n",
       "       datetime.datetime(2021, 9, 30, 20, 0),\n",
       "       datetime.datetime(2021, 9, 30, 21, 0), ...,\n",
       "       datetime.datetime(2021, 11, 30, 16, 0),\n",
       "       datetime.datetime(2021, 11, 30, 17, 0),\n",
       "       datetime.datetime(2021, 11, 30, 18, 0)], dtype=object)"
      ]
     },
     "execution_count": 40,
     "metadata": {},
     "output_type": "execute_result"
    }
   ],
   "source": [
    "# Cambiar la zona horaria utc 0 a utc -5\n",
    "utc = pytz.utc\n",
    "col_zone = timezone('America/Bogota')\n",
    "time2=np.array([datetime.datetime(i.year,i.month,i.day,i.hour,i.minute,tzinfo=utc) for i in time_wave])\n",
    "loc_co =np.array([i.astimezone(col_zone) for i in time2])\n",
    "time_wave = np.array([datetime.datetime(i.year,i.month,i.day,i.hour,i.minute) for i in loc_co])\n",
    "time_wave"
   ]
  },
  {
   "cell_type": "code",
   "execution_count": 41,
   "metadata": {},
   "outputs": [
    {
     "name": "stdout",
     "output_type": "stream",
     "text": [
      "[ 774 1077]\n",
      "(303,)\n"
     ]
    }
   ],
   "source": [
    "date_ini = datetime.datetime(2021,11,2,1) # Parámetro a variar\n",
    "date_fin = datetime.datetime(2021,11,14,16) # Parámetro a variar\n",
    "ind_ini_fin = np.where((time_wave==date_ini)|(time_wave==date_fin))[0]\n",
    "time_d3d_wave = time_wave[ind_ini_fin[0]:ind_ini_fin[1]]\n",
    "print(ind_ini_fin)\n",
    "print(time_d3d_wave.shape)"
   ]
  },
  {
   "cell_type": "code",
   "execution_count": 42,
   "metadata": {},
   "outputs": [],
   "source": [
    "def TEPAR_files_swan(filename,lon, lat, Latitud, Longitud, time_wave, hs, tp, direc , date_ini = datetime.datetime(2021,11,2,1), date_fin = datetime.datetime(2021,11,14,16)):\n",
    "    \"\"\"\n",
    "    filename: Nombre del archivo\n",
    "    Lon: Coordenada longitudinal del punto de interés\n",
    "    Lat: Coordenada latitudinal del punto de interés\n",
    "    Latitud: Serie de coordenadas latitudinales\n",
    "    Longitud: Serie de coordenadas longitudinales\n",
    "    date_ini: fecha inicial de la serie de datos\n",
    "    date_fin: Fecha final de la serie de datos\n",
    "    \"\"\"\n",
    "    in_lat = np.where((Latitud == lat))[0]\n",
    "    in_lon = np.where((Longitud == lon))[0]\n",
    "    ind_ini_fin = np.where((time_wave==date_ini)|(time_wave==date_fin))[0]\n",
    "    \n",
    "    time_d3d_wave = time_wave[ind_ini_fin[0]:ind_ini_fin[1]]\n",
    "    str_time_wave =[time_d3d_wave[i].strftime(\"%Y%m%d.%H%M\") for i in range( len(time_d3d_wave))]\n",
    "    Hs = hs[ind_ini_fin[0]:ind_ini_fin[1], in_lat, in_lon]\n",
    "    Hs = [Hs[i][0] for i in range(len(Hs))]\n",
    "    Tp = tp[ind_ini_fin[0]:ind_ini_fin[1], in_lat, in_lon]\n",
    "    Tp = [Tp[i][0] for i in range(len(Tp))]\n",
    "    Direc = direc[ind_ini_fin[0]:ind_ini_fin[1], in_lat, in_lon]\n",
    "    Direc = [Direc[i][0] for i in range(len(Direc))]\n",
    "    Des_direc = list(np.ones(shape=len(Direc))*40)\n",
    "    Dir_Param = {'Time':str_time_wave, 'Hs': Hs, 'Tp': Tp, 'Direc': Direc, 'Des_Dirc': Des_direc}\n",
    "    df_data = pd.DataFrame(data = Dir_Param)\n",
    "    with open (filename+'.bnd', \"w\") as f:\n",
    "        f.write(\"TPAR \\n\")\n",
    "        np.savetxt(f,df_data,fmt =('%s  %7.9f  %8.9f  %9.9f  %5.1f'))\n",
    "    return df_data"
   ]
  },
  {
   "cell_type": "code",
   "execution_count": 43,
   "metadata": {},
   "outputs": [],
   "source": [
    "# Note:\n",
    "Boundary = 'Norte'\n",
    "longitudes = [278.250, 278.375]\n",
    "lat = 12.625\n",
    "for i in range (len(longitudes)):\n",
    "    df_data = TEPAR_files_swan(Boundary + str(i+1),longitudes[i], lat, lat_wave, lon_wave, time_wave, hs, tp, direc , date_ini = datetime.datetime(2021,11,2,0), date_fin = datetime.datetime(2021,11,14,22))"
   ]
  },
  {
   "cell_type": "code",
   "execution_count": 44,
   "metadata": {},
   "outputs": [],
   "source": [
    "# Sur:\n",
    "Boundary = 'Sur'\n",
    "longitudes = [278.250, 278.375]\n",
    "lat = 12.375\n",
    "for i in range (len(longitudes)):\n",
    "    df_data = TEPAR_files_swan(Boundary + str(i+1),longitudes[i], lat, lat_wave, lon_wave, time_wave, hs, tp, direc , date_ini = datetime.datetime(2021,11,2,0), date_fin = datetime.datetime(2021,11,14,22))"
   ]
  },
  {
   "cell_type": "code",
   "execution_count": 45,
   "metadata": {},
   "outputs": [],
   "source": [
    "# Oeste:\n",
    "Boundary = 'Oeste'\n",
    "latitudes = [12.375, 12.5, 12.625]\n",
    "lon = 278.250\n",
    "for i in range (len(latitudes)):\n",
    "    df_data = TEPAR_files_swan(Boundary + str(i+1),lon, latitudes[i], lat_wave, lon_wave, time_wave, hs, tp, direc , date_ini = datetime.datetime(2021,11,2,0), date_fin = datetime.datetime(2021,11,14,22))"
   ]
  },
  {
   "cell_type": "code",
   "execution_count": 46,
   "metadata": {},
   "outputs": [],
   "source": [
    "# Este:\n",
    "Boundary = 'Este'\n",
    "latitudes = [12.375, 12.5, 12.625]\n",
    "lon = 278.375\n",
    "for i in range (len(latitudes)):\n",
    "    df_data = TEPAR_files_swan(Boundary + str(i+1),lon, latitudes[i], lat_wave, lon_wave, time_wave, hs, tp, direc , date_ini = datetime.datetime(2021,11,2,0), date_fin = datetime.datetime(2021,11,14,22))"
   ]
  },
  {
   "cell_type": "code",
   "execution_count": 56,
   "metadata": {},
   "outputs": [
    {
     "data": {
      "text/plain": [
       "17300.0"
      ]
     },
     "execution_count": 56,
     "metadata": {},
     "output_type": "execute_result"
    }
   ],
   "source": [
    "x_max-x_min"
   ]
  },
  {
   "cell_type": "code",
   "execution_count": 60,
   "metadata": {},
   "outputs": [
    {
     "data": {
      "text/plain": [
       "13875.0"
      ]
     },
     "execution_count": 60,
     "metadata": {},
     "output_type": "execute_result"
    }
   ],
   "source": [
    "(12.5-12.375)*111000"
   ]
  },
  {
   "cell_type": "code",
   "execution_count": 59,
   "metadata": {},
   "outputs": [
    {
     "data": {
      "text/plain": [
       "-19000.0"
      ]
     },
     "execution_count": 59,
     "metadata": {},
     "output_type": "execute_result"
    }
   ],
   "source": [
    "y_min-y_max"
   ]
  },
  {
   "cell_type": "code",
   "execution_count": null,
   "metadata": {},
   "outputs": [],
   "source": []
  }
 ],
 "metadata": {
  "kernelspec": {
   "display_name": "tesis",
   "language": "python",
   "name": "python3"
  },
  "language_info": {
   "codemirror_mode": {
    "name": "ipython",
    "version": 3
   },
   "file_extension": ".py",
   "mimetype": "text/x-python",
   "name": "python",
   "nbconvert_exporter": "python",
   "pygments_lexer": "ipython3",
   "version": "3.9.12"
  },
  "orig_nbformat": 4,
  "vscode": {
   "interpreter": {
    "hash": "5cd6de0c532244a7a396df771cc95ab2bda84ca8b639999b611b5a988d9dfc0a"
   }
  }
 },
 "nbformat": 4,
 "nbformat_minor": 2
}
