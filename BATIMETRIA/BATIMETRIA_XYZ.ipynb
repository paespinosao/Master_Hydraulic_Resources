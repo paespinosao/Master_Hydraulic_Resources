{
 "cells": [
  {
   "cell_type": "code",
   "execution_count": 1,
   "metadata": {
    "ExecuteTime": {
     "end_time": "2022-04-26T02:01:52.557169Z",
     "start_time": "2022-04-26T02:01:52.550684Z"
    }
   },
   "outputs": [],
   "source": [
    "import numpy as np\n",
    "import matplotlib.pyplot as plt\n",
    "import matplotlib.pylab as plb\n",
    "import scipy.signal as signal\n",
    "import pandas as pd"
   ]
  },
  {
   "cell_type": "code",
   "execution_count": 35,
   "metadata": {},
   "outputs": [],
   "source": [
    "# Abrir batimetría idw\n",
    "\n",
    "# cargar batimetria de arcgis\n",
    "# ---------------------------\n",
    "delta = 0.00090000000000002\n",
    "x = np.asarray([(-81.876108860436 + 360) + i*delta for i in range(415)])\n",
    "y = np.asarray([12.37755125039 + i*delta for i in range(417)])\n",
    "# z = np.flipud(np.genfromtxt(r\"G:\\My Drive\\TDG_Paula\\Batimetria\\Bat_50m\\idw_50m_int4.txt\", skip_header=6))\n",
    "z = np.flipud(np.genfromtxt(r\"G:\\My Drive\\TDG_Paula\\Batimetria\\Bat_100m\\idw_100m.txt\", skip_header=6))\n",
    "# z[z == -9999] = nan\n",
    "# z[np.where(z<0)] = nan"
   ]
  },
  {
   "cell_type": "code",
   "execution_count": 36,
   "metadata": {},
   "outputs": [
    {
     "data": {
      "text/plain": [
       "((417, 415), (415,), (417,))"
      ]
     },
     "execution_count": 36,
     "metadata": {},
     "output_type": "execute_result"
    }
   ],
   "source": [
    "z.shape, x.shape, y.shape"
   ]
  },
  {
   "cell_type": "code",
   "execution_count": 37,
   "metadata": {},
   "outputs": [],
   "source": [
    "X_re, Y_re = np.meshgrid(x,y)\n",
    "Z_re = np.reshape(z,(len(x)*len(y)))\n",
    "X_re= np.reshape(X_re,(len(x)*len(y)))\n",
    "Y_re= np.reshape(Y_re,(len(x)*len(y)))\n",
    "\n",
    "df_data = pd.DataFrame({'x': X_re, 'y': Y_re, 'z': Z_re})\n",
    "path = r'G:\\My Drive\\TDG_Paula\\Batimetria\\Bat_100m'\n",
    "name_file = 'Bat_SAI_100m.xyz'\n",
    "# path = r'G:\\My Drive\\TDG_Paula\\Batimetria\\Bat_50m'\n",
    "# name_file = 'Bat_SAI_50m.xyz'\n",
    "np.savetxt(path+'/'+name_file, df_data.values, delimiter=' ', fmt = \"%1.7f\")"
   ]
  },
  {
   "cell_type": "code",
   "execution_count": 38,
   "metadata": {},
   "outputs": [
    {
     "data": {
      "text/html": [
       "<div>\n",
       "<style scoped>\n",
       "    .dataframe tbody tr th:only-of-type {\n",
       "        vertical-align: middle;\n",
       "    }\n",
       "\n",
       "    .dataframe tbody tr th {\n",
       "        vertical-align: top;\n",
       "    }\n",
       "\n",
       "    .dataframe thead th {\n",
       "        text-align: right;\n",
       "    }\n",
       "</style>\n",
       "<table border=\"1\" class=\"dataframe\">\n",
       "  <thead>\n",
       "    <tr style=\"text-align: right;\">\n",
       "      <th></th>\n",
       "      <th>x</th>\n",
       "      <th>y</th>\n",
       "      <th>z</th>\n",
       "    </tr>\n",
       "  </thead>\n",
       "  <tbody>\n",
       "    <tr>\n",
       "      <th>0</th>\n",
       "      <td>278.123891</td>\n",
       "      <td>12.377551</td>\n",
       "      <td>1384.546</td>\n",
       "    </tr>\n",
       "    <tr>\n",
       "      <th>1</th>\n",
       "      <td>278.124791</td>\n",
       "      <td>12.377551</td>\n",
       "      <td>1390.750</td>\n",
       "    </tr>\n",
       "    <tr>\n",
       "      <th>2</th>\n",
       "      <td>278.125691</td>\n",
       "      <td>12.377551</td>\n",
       "      <td>1401.488</td>\n",
       "    </tr>\n",
       "    <tr>\n",
       "      <th>3</th>\n",
       "      <td>278.126591</td>\n",
       "      <td>12.377551</td>\n",
       "      <td>1413.447</td>\n",
       "    </tr>\n",
       "    <tr>\n",
       "      <th>4</th>\n",
       "      <td>278.127491</td>\n",
       "      <td>12.377551</td>\n",
       "      <td>1423.793</td>\n",
       "    </tr>\n",
       "    <tr>\n",
       "      <th>...</th>\n",
       "      <td>...</td>\n",
       "      <td>...</td>\n",
       "      <td>...</td>\n",
       "    </tr>\n",
       "    <tr>\n",
       "      <th>173050</th>\n",
       "      <td>278.492891</td>\n",
       "      <td>12.751951</td>\n",
       "      <td>1104.834</td>\n",
       "    </tr>\n",
       "    <tr>\n",
       "      <th>173051</th>\n",
       "      <td>278.493791</td>\n",
       "      <td>12.751951</td>\n",
       "      <td>1065.784</td>\n",
       "    </tr>\n",
       "    <tr>\n",
       "      <th>173052</th>\n",
       "      <td>278.494691</td>\n",
       "      <td>12.751951</td>\n",
       "      <td>1034.983</td>\n",
       "    </tr>\n",
       "    <tr>\n",
       "      <th>173053</th>\n",
       "      <td>278.495591</td>\n",
       "      <td>12.751951</td>\n",
       "      <td>1015.882</td>\n",
       "    </tr>\n",
       "    <tr>\n",
       "      <th>173054</th>\n",
       "      <td>278.496491</td>\n",
       "      <td>12.751951</td>\n",
       "      <td>1008.151</td>\n",
       "    </tr>\n",
       "  </tbody>\n",
       "</table>\n",
       "<p>173055 rows × 3 columns</p>\n",
       "</div>"
      ],
      "text/plain": [
       "                 x          y         z\n",
       "0       278.123891  12.377551  1384.546\n",
       "1       278.124791  12.377551  1390.750\n",
       "2       278.125691  12.377551  1401.488\n",
       "3       278.126591  12.377551  1413.447\n",
       "4       278.127491  12.377551  1423.793\n",
       "...            ...        ...       ...\n",
       "173050  278.492891  12.751951  1104.834\n",
       "173051  278.493791  12.751951  1065.784\n",
       "173052  278.494691  12.751951  1034.983\n",
       "173053  278.495591  12.751951  1015.882\n",
       "173054  278.496491  12.751951  1008.151\n",
       "\n",
       "[173055 rows x 3 columns]"
      ]
     },
     "execution_count": 38,
     "metadata": {},
     "output_type": "execute_result"
    }
   ],
   "source": [
    "df_data"
   ]
  },
  {
   "cell_type": "code",
   "execution_count": 3,
   "metadata": {
    "ExecuteTime": {
     "end_time": "2022-04-26T01:50:37.693316Z",
     "start_time": "2022-04-26T01:50:37.673731Z"
    }
   },
   "outputs": [],
   "source": [
    "ruta = r\"G:\\My Drive\\TESIS_MAESTRIA_PAULAE\\MODELO_NUMERICO\\BATIMETRIA\\BAT_SAI_GENERAL_PA_JD_100m\\BAT_SAI_GENERAL_100m.txt\"\n",
    "df_data = pd.read_csv(ruta,sep = ',', usecols=['x','y','z'])\n",
    "# df_data.rename(columns={'Z_1':'z'}, inplace=True)"
   ]
  },
  {
   "cell_type": "code",
   "execution_count": 4,
   "metadata": {
    "ExecuteTime": {
     "end_time": "2022-04-26T01:52:58.853064Z",
     "start_time": "2022-04-26T01:52:58.822572Z"
    }
   },
   "outputs": [],
   "source": [
    "path =  r\"G:\\My Drive\\TESIS_MAESTRIA_PAULAE\\MODELO_NUMERICO\\BATIMETRIA\\BAT_SAI_GENERAL_PA_JD_100m\"\n",
    "name_file = 'Bat_SAI_MERGE_JD_PA_100m.xyz'\n",
    "np.savetxt(path+'/'+name_file, df_data.values, delimiter=' ', fmt = \"%1.7f\")"
   ]
  },
  {
   "cell_type": "code",
   "execution_count": 4,
   "metadata": {},
   "outputs": [
    {
     "name": "stdout",
     "output_type": "stream",
     "text": [
      "(7742,) (7742,) (7742,)\n"
     ]
    }
   ],
   "source": [
    "z = df_data.z.values\n",
    "x = df_data.x.values\n",
    "y = df_data.y.values\n",
    "print (z.shape,x.shape,y.shape)"
   ]
  },
  {
   "cell_type": "code",
   "execution_count": 5,
   "metadata": {},
   "outputs": [
    {
     "data": {
      "text/html": [
       "<div>\n",
       "<style scoped>\n",
       "    .dataframe tbody tr th:only-of-type {\n",
       "        vertical-align: middle;\n",
       "    }\n",
       "\n",
       "    .dataframe tbody tr th {\n",
       "        vertical-align: top;\n",
       "    }\n",
       "\n",
       "    .dataframe thead th {\n",
       "        text-align: right;\n",
       "    }\n",
       "</style>\n",
       "<table border=\"1\" class=\"dataframe\">\n",
       "  <thead>\n",
       "    <tr style=\"text-align: right;\">\n",
       "      <th></th>\n",
       "      <th>x</th>\n",
       "      <th>y</th>\n",
       "      <th>z</th>\n",
       "    </tr>\n",
       "  </thead>\n",
       "  <tbody>\n",
       "    <tr>\n",
       "      <th>0</th>\n",
       "      <td>421044.0</td>\n",
       "      <td>1397280.0</td>\n",
       "      <td>960.0</td>\n",
       "    </tr>\n",
       "    <tr>\n",
       "      <th>1</th>\n",
       "      <td>421144.0</td>\n",
       "      <td>1397280.0</td>\n",
       "      <td>960.0</td>\n",
       "    </tr>\n",
       "    <tr>\n",
       "      <th>2</th>\n",
       "      <td>421244.0</td>\n",
       "      <td>1397280.0</td>\n",
       "      <td>960.0</td>\n",
       "    </tr>\n",
       "    <tr>\n",
       "      <th>3</th>\n",
       "      <td>421344.0</td>\n",
       "      <td>1397280.0</td>\n",
       "      <td>960.0</td>\n",
       "    </tr>\n",
       "    <tr>\n",
       "      <th>4</th>\n",
       "      <td>421444.0</td>\n",
       "      <td>1397280.0</td>\n",
       "      <td>960.0</td>\n",
       "    </tr>\n",
       "    <tr>\n",
       "      <th>...</th>\n",
       "      <td>...</td>\n",
       "      <td>...</td>\n",
       "      <td>...</td>\n",
       "    </tr>\n",
       "    <tr>\n",
       "      <th>7737</th>\n",
       "      <td>423544.0</td>\n",
       "      <td>1392380.0</td>\n",
       "      <td>-5.0</td>\n",
       "    </tr>\n",
       "    <tr>\n",
       "      <th>7738</th>\n",
       "      <td>425044.0</td>\n",
       "      <td>1392880.0</td>\n",
       "      <td>-5.0</td>\n",
       "    </tr>\n",
       "    <tr>\n",
       "      <th>7739</th>\n",
       "      <td>425044.0</td>\n",
       "      <td>1392980.0</td>\n",
       "      <td>-5.0</td>\n",
       "    </tr>\n",
       "    <tr>\n",
       "      <th>7740</th>\n",
       "      <td>425144.0</td>\n",
       "      <td>1392980.0</td>\n",
       "      <td>-5.0</td>\n",
       "    </tr>\n",
       "    <tr>\n",
       "      <th>7741</th>\n",
       "      <td>425144.0</td>\n",
       "      <td>1393080.0</td>\n",
       "      <td>-5.0</td>\n",
       "    </tr>\n",
       "  </tbody>\n",
       "</table>\n",
       "<p>7742 rows × 3 columns</p>\n",
       "</div>"
      ],
      "text/plain": [
       "             x          y      z\n",
       "0     421044.0  1397280.0  960.0\n",
       "1     421144.0  1397280.0  960.0\n",
       "2     421244.0  1397280.0  960.0\n",
       "3     421344.0  1397280.0  960.0\n",
       "4     421444.0  1397280.0  960.0\n",
       "...        ...        ...    ...\n",
       "7737  423544.0  1392380.0   -5.0\n",
       "7738  425044.0  1392880.0   -5.0\n",
       "7739  425044.0  1392980.0   -5.0\n",
       "7740  425144.0  1392980.0   -5.0\n",
       "7741  425144.0  1393080.0   -5.0\n",
       "\n",
       "[7742 rows x 3 columns]"
      ]
     },
     "execution_count": 5,
     "metadata": {},
     "output_type": "execute_result"
    }
   ],
   "source": [
    "df_data"
   ]
  },
  {
   "cell_type": "code",
   "execution_count": null,
   "metadata": {},
   "outputs": [],
   "source": []
  },
  {
   "cell_type": "code",
   "execution_count": 6,
   "metadata": {},
   "outputs": [],
   "source": [
    "df_data.loc[(df_data['x']> 420000) & (df_data['z']> 0),'z']= 29"
   ]
  },
  {
   "cell_type": "code",
   "execution_count": 7,
   "metadata": {},
   "outputs": [],
   "source": [
    "df_data.loc[(df_data['x'] <= 420000) & (df_data['z']> 0), 'z']= 26"
   ]
  },
  {
   "cell_type": "code",
   "execution_count": 8,
   "metadata": {},
   "outputs": [],
   "source": [
    "df_data.loc[df_data['z'] <= 0, 'z']= np.nan"
   ]
  },
  {
   "cell_type": "code",
   "execution_count": 9,
   "metadata": {},
   "outputs": [
    {
     "data": {
      "text/plain": [
       "array([nan, 26., 29.])"
      ]
     },
     "execution_count": 9,
     "metadata": {},
     "output_type": "execute_result"
    }
   ],
   "source": [
    "df_data['z'].unique()"
   ]
  },
  {
   "cell_type": "code",
   "execution_count": 10,
   "metadata": {},
   "outputs": [],
   "source": [
    "path =  r\"G:\\My Drive\\TESIS_MAESTRIA_PAULAE\\MODELO_NUMERICO\\CODIGOS\"\n",
    "name_file = 'Map_Temp.xyz'\n",
    "np.savetxt(path+'/'+name_file, df_data.values, delimiter=' ', fmt = \"%1.7f\")"
   ]
  },
  {
   "cell_type": "code",
   "execution_count": 13,
   "metadata": {},
   "outputs": [
    {
     "data": {
      "text/plain": [
       "array([nan,  0.])"
      ]
     },
     "execution_count": 13,
     "metadata": {},
     "output_type": "execute_result"
    }
   ],
   "source": [
    "df_data.loc[(df_data['x']> 420000) & (df_data['z']> 0),'z']= 0\n",
    "df_data.loc[(df_data['x'] <= 420000) & (df_data['z']> 0), 'z']= 0\n",
    "df_data['z'].unique()"
   ]
  },
  {
   "cell_type": "code",
   "execution_count": 14,
   "metadata": {},
   "outputs": [],
   "source": [
    "path =  r\"G:\\My Drive\\TESIS_MAESTRIA_PAULAE\\MODELO_NUMERICO\\CODIGOS\"\n",
    "name_file = 'Map_water_level.xyz'\n",
    "np.savetxt(path+'/'+name_file, df_data.values, delimiter=' ', fmt = \"%1.7f\")"
   ]
  },
  {
   "cell_type": "code",
   "execution_count": 16,
   "metadata": {},
   "outputs": [
    {
     "data": {
      "text/plain": [
       "array([nan, 36.])"
      ]
     },
     "execution_count": 16,
     "metadata": {},
     "output_type": "execute_result"
    }
   ],
   "source": [
    "df_data.loc[(df_data['x']> 420000) & (df_data['z']>= 0),'z']= 36\n",
    "df_data.loc[(df_data['x'] <= 420000) & (df_data['z']>= 0), 'z']= 36\n",
    "df_data['z'].unique()"
   ]
  },
  {
   "cell_type": "code",
   "execution_count": 17,
   "metadata": {},
   "outputs": [],
   "source": [
    "path =  r\"G:\\My Drive\\TESIS_MAESTRIA_PAULAE\\MODELO_NUMERICO\\CODIGOS\"\n",
    "name_file = 'Map_salt.xyz'\n",
    "np.savetxt(path+'/'+name_file, df_data.values, delimiter=' ', fmt = \"%1.7f\")"
   ]
  },
  {
   "cell_type": "code",
   "execution_count": null,
   "metadata": {},
   "outputs": [],
   "source": []
  }
 ],
 "metadata": {
  "kernelspec": {
   "display_name": "Python 3 (ipykernel)",
   "language": "python",
   "name": "python3"
  },
  "language_info": {
   "codemirror_mode": {
    "name": "ipython",
    "version": 3
   },
   "file_extension": ".py",
   "mimetype": "text/x-python",
   "name": "python",
   "nbconvert_exporter": "python",
   "pygments_lexer": "ipython3",
   "version": "3.9.12"
  },
  "toc": {
   "base_numbering": 1,
   "nav_menu": {},
   "number_sections": true,
   "sideBar": true,
   "skip_h1_title": false,
   "title_cell": "Table of Contents",
   "title_sidebar": "Contents",
   "toc_cell": false,
   "toc_position": {},
   "toc_section_display": true,
   "toc_window_display": false
  },
  "varInspector": {
   "cols": {
    "lenName": 16,
    "lenType": 16,
    "lenVar": 40
   },
   "kernels_config": {
    "python": {
     "delete_cmd_postfix": "",
     "delete_cmd_prefix": "del ",
     "library": "var_list.py",
     "varRefreshCmd": "print(var_dic_list())"
    },
    "r": {
     "delete_cmd_postfix": ") ",
     "delete_cmd_prefix": "rm(",
     "library": "var_list.r",
     "varRefreshCmd": "cat(var_dic_list()) "
    }
   },
   "types_to_exclude": [
    "module",
    "function",
    "builtin_function_or_method",
    "instance",
    "_Feature"
   ],
   "window_display": false
  }
 },
 "nbformat": 4,
 "nbformat_minor": 4
}
