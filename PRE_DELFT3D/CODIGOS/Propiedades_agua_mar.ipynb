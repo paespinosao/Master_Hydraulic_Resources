{
 "cells": [
  {
   "cell_type": "code",
   "execution_count": 1,
   "metadata": {},
   "outputs": [],
   "source": [
    "import numpy as np \n",
    "import matplotlib.pyplot as plt\n",
    "import pandas as pd \n",
    "import sympy as sp\n",
    "import matplotlib as mpl\n",
    "from   datetime import datetime,timedelta\n",
    "import glob\n",
    "import statsmodels.api as sm\n",
    "import sys"
   ]
  },
  {
   "cell_type": "code",
   "execution_count": 2,
   "metadata": {},
   "outputs": [],
   "source": [
    "plt.style.use('seaborn-paper')\n",
    "mpl.rcParams['xtick.labelsize']=14\n",
    "mpl.rcParams['ytick.labelsize']=14\n",
    "mpl.rcParams['font.sans-serif'] = \"Century Gothic\"\n",
    "mpl.rcParams['font.family'] = \"Century Gothic\"\n",
    "mpl.rcParams['font.weight'] = 'normal'"
   ]
  },
  {
   "cell_type": "code",
   "execution_count": 5,
   "metadata": {},
   "outputs": [],
   "source": [
    "paths = glob.glob(r\"E:\\Documentos\\Universidad Nacional\\MAESTRIA\\DELFT3D\\PRE_DELFT3D\\CODIGOS\\*.dat\")"
   ]
  },
  {
   "cell_type": "code",
   "execution_count": 7,
   "metadata": {},
   "outputs": [
    {
     "data": {
      "text/plain": [
       "'E:\\\\Documentos\\\\Universidad Nacional\\\\MAESTRIA\\\\DELFT3D\\\\PRE_DELFT3D\\\\CODIGOS\\\\saliniry_exp_file.dat'"
      ]
     },
     "execution_count": 7,
     "metadata": {},
     "output_type": "execute_result"
    }
   ],
   "source": [
    "paths[0]"
   ]
  },
  {
   "cell_type": "code",
   "execution_count": 19,
   "metadata": {},
   "outputs": [],
   "source": [
    "data_Sal_test6=pd.read_csv(paths[0],delimiter='\\s+',header=5,encoding =  'unicode_escape',\n",
    "                     names=[\"Date\",\"Time\",\"Salinity\",\"Z\"])\n",
    "data_Sal_test6"
   ]
  },
  {
   "cell_type": "code",
   "execution_count": 26,
   "metadata": {},
   "outputs": [],
   "source": [
    "data_temp_test6=pd.read_csv(paths[1],delimiter='\\s+',header=5,encoding =  'unicode_escape',\n",
    "                     names=[\"Date\",\"Time\",\"Temperature\",\"Z\"])"
   ]
  },
  {
   "cell_type": "code",
   "execution_count": 27,
   "metadata": {},
   "outputs": [
    {
     "data": {
      "text/html": [
       "<div>\n",
       "<style scoped>\n",
       "    .dataframe tbody tr th:only-of-type {\n",
       "        vertical-align: middle;\n",
       "    }\n",
       "\n",
       "    .dataframe tbody tr th {\n",
       "        vertical-align: top;\n",
       "    }\n",
       "\n",
       "    .dataframe thead th {\n",
       "        text-align: right;\n",
       "    }\n",
       "</style>\n",
       "<table border=\"1\" class=\"dataframe\">\n",
       "  <thead>\n",
       "    <tr style=\"text-align: right;\">\n",
       "      <th></th>\n",
       "      <th>Date</th>\n",
       "      <th>Time</th>\n",
       "      <th>Temperature</th>\n",
       "      <th>Z</th>\n",
       "    </tr>\n",
       "  </thead>\n",
       "  <tbody>\n",
       "    <tr>\n",
       "      <th>0</th>\n",
       "      <td>20210603</td>\n",
       "      <td>0</td>\n",
       "      <td>27.3000</td>\n",
       "      <td>0.300000</td>\n",
       "    </tr>\n",
       "    <tr>\n",
       "      <th>1</th>\n",
       "      <td>20210603</td>\n",
       "      <td>500</td>\n",
       "      <td>27.2933</td>\n",
       "      <td>-22.074200</td>\n",
       "    </tr>\n",
       "    <tr>\n",
       "      <th>2</th>\n",
       "      <td>20210603</td>\n",
       "      <td>1000</td>\n",
       "      <td>27.2876</td>\n",
       "      <td>0.300210</td>\n",
       "    </tr>\n",
       "    <tr>\n",
       "      <th>3</th>\n",
       "      <td>20210603</td>\n",
       "      <td>1500</td>\n",
       "      <td>27.2828</td>\n",
       "      <td>-22.074200</td>\n",
       "    </tr>\n",
       "    <tr>\n",
       "      <th>4</th>\n",
       "      <td>20210603</td>\n",
       "      <td>2000</td>\n",
       "      <td>27.2786</td>\n",
       "      <td>0.300616</td>\n",
       "    </tr>\n",
       "    <tr>\n",
       "      <th>...</th>\n",
       "      <td>...</td>\n",
       "      <td>...</td>\n",
       "      <td>...</td>\n",
       "      <td>...</td>\n",
       "    </tr>\n",
       "    <tr>\n",
       "      <th>68</th>\n",
       "      <td>20210603</td>\n",
       "      <td>54000</td>\n",
       "      <td>27.2456</td>\n",
       "      <td>0.047756</td>\n",
       "    </tr>\n",
       "    <tr>\n",
       "      <th>69</th>\n",
       "      <td>20210603</td>\n",
       "      <td>54500</td>\n",
       "      <td>27.2456</td>\n",
       "      <td>-22.074200</td>\n",
       "    </tr>\n",
       "    <tr>\n",
       "      <th>70</th>\n",
       "      <td>20210603</td>\n",
       "      <td>55000</td>\n",
       "      <td>27.2456</td>\n",
       "      <td>0.034932</td>\n",
       "    </tr>\n",
       "    <tr>\n",
       "      <th>71</th>\n",
       "      <td>20210603</td>\n",
       "      <td>55500</td>\n",
       "      <td>27.2456</td>\n",
       "      <td>-22.074200</td>\n",
       "    </tr>\n",
       "    <tr>\n",
       "      <th>72</th>\n",
       "      <td>20210603</td>\n",
       "      <td>60000</td>\n",
       "      <td>27.2457</td>\n",
       "      <td>0.022519</td>\n",
       "    </tr>\n",
       "  </tbody>\n",
       "</table>\n",
       "<p>73 rows × 4 columns</p>\n",
       "</div>"
      ],
      "text/plain": [
       "        Date   Time  Temperature          Z\n",
       "0   20210603      0      27.3000   0.300000\n",
       "1   20210603    500      27.2933 -22.074200\n",
       "2   20210603   1000      27.2876   0.300210\n",
       "3   20210603   1500      27.2828 -22.074200\n",
       "4   20210603   2000      27.2786   0.300616\n",
       "..       ...    ...          ...        ...\n",
       "68  20210603  54000      27.2456   0.047756\n",
       "69  20210603  54500      27.2456 -22.074200\n",
       "70  20210603  55000      27.2456   0.034932\n",
       "71  20210603  55500      27.2456 -22.074200\n",
       "72  20210603  60000      27.2457   0.022519\n",
       "\n",
       "[73 rows x 4 columns]"
      ]
     },
     "execution_count": 27,
     "metadata": {},
     "output_type": "execute_result"
    }
   ],
   "source": [
    "data_temp_test6"
   ]
  },
  {
   "cell_type": "code",
   "execution_count": 21,
   "metadata": {},
   "outputs": [],
   "source": [
    "in_swan = datetime(2018,5,15,0)      # Incio de almacenamiento de datos de SWAN\n",
    "fin_swan = datetime(2018,5,15,6)    # Fin de almacenamiento de datos de SWAN\n",
    "escala_temporal = 5               # resolución temporal en minutos\n",
    "minutes_swan =int((fin_swan-in_swan).days*24 + (fin_swan-in_swan).seconds/3600)*60+escala_temporal  # minutos de almacenamiento en swan\n",
    "time = np.array([in_swan + timedelta(minutes=m) for m in range(0,int(minutes_swan),escala_temporal)]) # Vector de timepos por hora, como se registro con Swan"
   ]
  },
  {
   "cell_type": "code",
   "execution_count": 24,
   "metadata": {},
   "outputs": [],
   "source": [
    "df_salinity = pd.DataFrame(data=data_Sal_test6['Salinity'].values,index= time,columns=['Salinity']) "
   ]
  },
  {
   "cell_type": "code",
   "execution_count": 23,
   "metadata": {},
   "outputs": [
    {
     "data": {
      "text/plain": [
       "(73,)"
      ]
     },
     "execution_count": 23,
     "metadata": {},
     "output_type": "execute_result"
    }
   ],
   "source": [
    "time.shape"
   ]
  },
  {
   "cell_type": "code",
   "execution_count": 25,
   "metadata": {},
   "outputs": [
    {
     "data": {
      "image/png": "[encoded data removed]",
      "text/plain": [
       "<Figure size 1080x360 with 1 Axes>"
      ]
     },
     "metadata": {
      "needs_background": "light"
     },
     "output_type": "display_data"
    }
   ],
   "source": [
    "plt.figure(figsize=(5,3))\n",
    "df_salinity['Salinity'].plot(figsize=(15, 5), fontsize=12)\n",
    "plt.xlabel('Tiempo',size=15)\n",
    "plt.ylabel('[psu]',size=15)\n",
    "plt.title('Salinity',size = 18)\n",
    "plt.grid(True)\n",
    "# ruta = str('E:/Documentos/Universidad Nacional/TDG_Paula/SWAN/')  #Ruta para guardar la imagen  \n",
    "# plt.savefig(ruta+str('serie_')+title+str('.png'),dpi=300,bbox_inches='tight',pad_inches=0)"
   ]
  },
  {
   "cell_type": "code",
   "execution_count": 28,
   "metadata": {},
   "outputs": [],
   "source": [
    "df_temperature = pd.DataFrame(data=data_temp_test6['Temperature'].values,index= time,columns=['Temperature']) "
   ]
  },
  {
   "cell_type": "code",
   "execution_count": 29,
   "metadata": {},
   "outputs": [
    {
     "data": {
      "image/png": "[encoded data removed]",
      "text/plain": [
       "<Figure size 1080x360 with 1 Axes>"
      ]
     },
     "metadata": {
      "needs_background": "light"
     },
     "output_type": "display_data"
    }
   ],
   "source": [
    "plt.figure(figsize=(5,3))\n",
    "df_temperature['Temperature'].plot(figsize=(15, 5), fontsize=12,color='orange')\n",
    "plt.xlabel('Tiempo',size=15)\n",
    "plt.ylabel('[°C]',size=15)\n",
    "plt.title('Temperature',size = 18)\n",
    "plt.grid(True)\n",
    "# ruta = str('E:/Documentos/Universidad Nacional/TDG_Paula/SWAN/')  #Ruta para guardar la imagen  \n",
    "# plt.savefig(ruta+str('serie_')+title+str('.png'),dpi=300,bbox_inches='tight',pad_inches=0)"
   ]
  },
  {
   "cell_type": "code",
   "execution_count": null,
   "metadata": {},
   "outputs": [],
   "source": [
    "# Salinidad en un punto \n",
    "# hourticks = ((time[-1]-time[0]).days*24 +(time[-1]-time[0]).seconds/3600+5)\n",
    "# xticks_time = np.array([time[0] + timedelta(hours=h) for h in range(0,int(hourticks),int(hourticks/5))])\n",
    "fig, ax = plt.subplots(figsize=(15,5))\n",
    "ax.plot(time, salt[:,0,0,0])\n",
    "ax.set_xticks(xticks_time)\n",
    "date_format = mdates.DateFormatter('%m-%d %H')\n",
    "ax.xaxis.set_major_formatter(date_format)\n",
    "ax.set_xlabel ('Date',size=15)\n",
    "ax.set_ylabel ('Salinidad [psu]',size=15)\n",
    "plt.xticks(rotation=30)\n",
    "ax.grid(True)\n",
    "ax.set_title('Salinidad',size=15)"
   ]
  }
 ],
 "metadata": {
  "hide_input": false,
  "kernelspec": {
   "display_name": "Python 3",
   "language": "python",
   "name": "python3"
  },
  "language_info": {
   "codemirror_mode": {
    "name": "ipython",
    "version": 3
   },
   "file_extension": ".py",
   "mimetype": "text/x-python",
   "name": "python",
   "nbconvert_exporter": "python",
   "pygments_lexer": "ipython3",
   "version": "3.7.3"
  },
  "latex_envs": {
   "LaTeX_envs_menu_present": true,
   "autoclose": false,
   "autocomplete": true,
   "bibliofile": "biblio.bib",
   "cite_by": "apalike",
   "current_citInitial": 1,
   "eqLabelWithNumbers": true,
   "eqNumInitial": 1,
   "hotkeys": {
    "equation": "Ctrl-E",
    "itemize": "Ctrl-I"
   },
   "labels_anchors": false,
   "latex_user_defs": false,
   "report_style_numbering": false,
   "user_envs_cfg": false
  },
  "toc": {
   "base_numbering": 1,
   "nav_menu": {},
   "number_sections": true,
   "sideBar": true,
   "skip_h1_title": false,
   "title_cell": "Table of Contents",
   "title_sidebar": "Contents",
   "toc_cell": false,
   "toc_position": {},
   "toc_section_display": true,
   "toc_window_display": false
  },
  "varInspector": {
   "cols": {
    "lenName": 16,
    "lenType": 16,
    "lenVar": 40
   },
   "kernels_config": {
    "python": {
     "delete_cmd_postfix": "",
     "delete_cmd_prefix": "del ",
     "library": "var_list.py",
     "varRefreshCmd": "print(var_dic_list())"
    },
    "r": {
     "delete_cmd_postfix": ") ",
     "delete_cmd_prefix": "rm(",
     "library": "var_list.r",
     "varRefreshCmd": "cat(var_dic_list()) "
    }
   },
   "types_to_exclude": [
    "module",
    "function",
    "builtin_function_or_method",
    "instance",
    "_Feature"
   ],
   "window_display": false
  }
 },
 "nbformat": 4,
 "nbformat_minor": 4
}
